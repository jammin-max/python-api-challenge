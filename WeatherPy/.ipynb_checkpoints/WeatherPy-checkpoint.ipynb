{
 "cells": [
  {
   "cell_type": "markdown",
   "metadata": {},
   "source": [
    "# WeatherPy\n",
    "----\n",
    "\n",
    "#### Note\n",
    "* Instructions have been included for each segment. You do not have to follow them exactly, but they are included to help you think through the steps."
   ]
  },
  {
   "cell_type": "code",
   "execution_count": 2,
   "metadata": {
    "scrolled": true
   },
   "outputs": [],
   "source": [
    "# Dependencies and Setup\n",
    "import os\n",
    "import time\n",
    "import random\n",
    "import matplotlib.pyplot as plt\n",
    "import pandas as pd\n",
    "import numpy as np\n",
    "import requests\n",
    "import time\n",
    "from scipy.stats import linregress\n",
    "import json\n",
    "from pprint import pprint\n",
    "\n",
    "\n",
    "# Import API key\n",
    "from api_keys import weather_api_key\n",
    "from api_keys import g_key\n",
    "\n",
    "# Incorporated citipy to determine city based on latitude and longitude\n",
    "from citipy import citipy\n",
    "\n",
    "# Output File (CSV)\n",
    "output_data_file = \"output_data/cities.csv\"\n",
    "\n",
    "# Range of latitudes and longitudes\n",
    "lat_range = (-90, 90)\n",
    "lng_range = (-180, 180)"
   ]
  },
  {
   "cell_type": "markdown",
   "metadata": {},
   "source": [
    "## Generate Cities List"
   ]
  },
  {
   "cell_type": "code",
   "execution_count": 3,
   "metadata": {},
   "outputs": [
    {
     "data": {
      "text/plain": [
       "592"
      ]
     },
     "execution_count": 3,
     "metadata": {},
     "output_type": "execute_result"
    }
   ],
   "source": [
    "lat_lngs = []\n",
    "cities = []\n",
    "\n",
    "# Create a set of random lat and lng combinations\n",
    "lats = np.random.uniform(lat_range[0], lat_range[1], size=1500)\n",
    "lngs = np.random.uniform(lng_range[0], lng_range[1], size=1500)\n",
    "lat_lngs = zip(lats, lngs)\n",
    "\n",
    "# Identify nearest city for each lat, lng combination\n",
    "for lat_lng in lat_lngs:\n",
    "    city = citipy.nearest_city(lat_lng[0], lat_lng[1]).city_name\n",
    "    \n",
    "    # If the city is unique, then add it to a our cities list\n",
    "    if city not in cities:\n",
    "        cities.append(city)\n",
    "\n",
    "# Print the city count to confirm sufficient count\n",
    "len(cities)\n",
    "\n"
   ]
  },
  {
   "cell_type": "code",
   "execution_count": 4,
   "metadata": {},
   "outputs": [],
   "source": [
    "city_list = []\n",
    "cloud_list = []\n",
    "country_list = []\n",
    "date_list = []\n",
    "humidity_list = []\n",
    "lats_list = []\n",
    "lngs_list = []\n",
    "temp_max_list = []\n",
    "wind_speed_list = []\n",
    "index_counter = 0\n",
    "set_counter = 1"
   ]
  },
  {
   "cell_type": "markdown",
   "metadata": {},
   "source": [
    "### Perform API Calls\n",
    "* Perform a weather check on each city using a series of successive API calls.\n",
    "* Include a print log of each city as it'sbeing processed (with the city number and city name).\n"
   ]
  },
  {
   "cell_type": "code",
   "execution_count": 5,
   "metadata": {
    "scrolled": true
   },
   "outputs": [
    {
     "name": "stdout",
     "output_type": "stream",
     "text": [
      "Beginning Data Retrieval \n",
      "-------------------------------\n",
      "Processing Record 1 of Set 1 : labis\n",
      "Processing Record 2 of Set 1 : puerto ayora\n",
      "Processing Record 3 of Set 1 : tombouctou\n",
      "Processing Record 4 of Set 1 : black river\n",
      "Processing Record 5 of Set 1 : salym\n",
      "Processing Record 6 of Set 1 : puerto madero\n",
      "Processing Record 7 of Set 1 : rikitea\n",
      "Processing Record 8 of Set 1 : grindavik\n",
      "Processing Record 9 of Set 1 : cape town\n",
      "Processing Record 10 of Set 1 : port hawkesbury\n",
      "Processing Record 11 of Set 1 : hobart\n",
      "Processing Record 12 of Set 1 : ushuaia\n",
      "Processing Record 13 of Set 1 : atuona\n",
      "City not found. Skipping...\n",
      "Processing Record 14 of Set 1 : lavrentiya\n",
      "Processing Record 15 of Set 1 : navashino\n",
      "Processing Record 16 of Set 1 : tuktoyaktuk\n",
      "Processing Record 17 of Set 1 : east london\n",
      "Processing Record 18 of Set 1 : busselton\n",
      "Processing Record 19 of Set 1 : ulladulla\n",
      "City not found. Skipping...\n",
      "Processing Record 20 of Set 1 : hastings\n",
      "Processing Record 21 of Set 1 : ribeira grande\n",
      "Processing Record 22 of Set 1 : georgetown\n",
      "Processing Record 23 of Set 1 : poum\n",
      "Processing Record 24 of Set 1 : port alfred\n",
      "Processing Record 25 of Set 1 : barrow\n",
      "Processing Record 26 of Set 1 : san quintin\n",
      "Processing Record 27 of Set 1 : touros\n",
      "Processing Record 28 of Set 1 : yellowknife\n",
      "Processing Record 29 of Set 1 : ventspils\n",
      "Processing Record 30 of Set 1 : elhovo\n",
      "Processing Record 31 of Set 1 : kruisfontein\n",
      "City not found. Skipping...\n",
      "Processing Record 32 of Set 1 : roald\n",
      "Processing Record 33 of Set 1 : maragogi\n",
      "Processing Record 34 of Set 1 : albany\n",
      "Processing Record 35 of Set 1 : ambon\n",
      "Processing Record 36 of Set 1 : bulawayo\n",
      "City not found. Skipping...\n",
      "Processing Record 37 of Set 1 : norman wells\n",
      "Processing Record 38 of Set 1 : lagoa\n",
      "Processing Record 39 of Set 1 : lebu\n",
      "City not found. Skipping...\n",
      "Processing Record 40 of Set 1 : mataura\n",
      "Processing Record 41 of Set 1 : haines junction\n",
      "Processing Record 42 of Set 1 : punta arenas\n",
      "Processing Record 43 of Set 1 : mapiri\n",
      "Processing Record 44 of Set 1 : richards bay\n",
      "Processing Record 45 of Set 1 : port elizabeth\n",
      "Processing Record 46 of Set 1 : sinop\n",
      "Processing Record 47 of Set 1 : porto novo\n",
      "Processing Record 48 of Set 1 : saint-leu\n",
      "Processing Record 49 of Set 1 : hithadhoo\n",
      "Processing Record 50 of Set 1 : viedma\n",
      "Processing Record 0 of Set 2 : ilulissat\n",
      "Processing Record 1 of Set 2 : bredasdorp\n",
      "Processing Record 2 of Set 2 : lasa\n",
      "Processing Record 3 of Set 2 : vaini\n",
      "Processing Record 4 of Set 2 : cidreira\n",
      "Processing Record 5 of Set 2 : minusinsk\n",
      "Processing Record 6 of Set 2 : wasilla\n",
      "Processing Record 7 of Set 2 : shubarshi\n",
      "Processing Record 8 of Set 2 : niamey\n",
      "Processing Record 9 of Set 2 : laje\n",
      "Processing Record 10 of Set 2 : waingapu\n",
      "Processing Record 11 of Set 2 : bluff\n",
      "Processing Record 12 of Set 2 : geraldton\n",
      "Processing Record 13 of Set 2 : san jeronimo\n",
      "Processing Record 14 of Set 2 : pisco\n",
      "Processing Record 15 of Set 2 : hilo\n",
      "Processing Record 16 of Set 2 : mar del plata\n",
      "Processing Record 17 of Set 2 : pincher creek\n",
      "City not found. Skipping...\n",
      "Processing Record 18 of Set 2 : pointe-noire\n",
      "Processing Record 19 of Set 2 : sande\n",
      "Processing Record 20 of Set 2 : merauke\n",
      "City not found. Skipping...\n",
      "Processing Record 21 of Set 2 : chokurdakh\n",
      "Processing Record 22 of Set 2 : karpogory\n",
      "Processing Record 23 of Set 2 : langarud\n",
      "Processing Record 24 of Set 2 : soledade\n",
      "Processing Record 25 of Set 2 : hasaki\n",
      "Processing Record 26 of Set 2 : acarau\n",
      "Processing Record 27 of Set 2 : tasiilaq\n",
      "Processing Record 28 of Set 2 : carnarvon\n",
      "City not found. Skipping...\n",
      "Processing Record 29 of Set 2 : tessalit\n",
      "Processing Record 30 of Set 2 : tarnow\n",
      "Processing Record 31 of Set 2 : bengkulu\n",
      "Processing Record 32 of Set 2 : talnakh\n",
      "Processing Record 33 of Set 2 : padang\n",
      "Processing Record 34 of Set 2 : kargil\n",
      "City not found. Skipping...\n",
      "Processing Record 35 of Set 2 : nikolskoye\n",
      "Processing Record 36 of Set 2 : qaanaaq\n",
      "City not found. Skipping...\n",
      "Processing Record 37 of Set 2 : kodiak\n",
      "Processing Record 38 of Set 2 : goya\n",
      "Processing Record 39 of Set 2 : codrington\n",
      "Processing Record 40 of Set 2 : okhotsk\n",
      "Processing Record 41 of Set 2 : houma\n",
      "Processing Record 42 of Set 2 : airai\n",
      "Processing Record 43 of Set 2 : teguise\n",
      "Processing Record 44 of Set 2 : hermanus\n",
      "Processing Record 45 of Set 2 : torbay\n",
      "Processing Record 46 of Set 2 : saldanha\n",
      "Processing Record 47 of Set 2 : coquimbo\n",
      "Processing Record 48 of Set 2 : aksu\n",
      "Processing Record 49 of Set 2 : loralai\n",
      "Processing Record 50 of Set 2 : nkhata bay\n",
      "Processing Record 0 of Set 3 : bethel\n",
      "Processing Record 1 of Set 3 : shache\n",
      "Processing Record 2 of Set 3 : leningradskiy\n",
      "Processing Record 3 of Set 3 : qaqortoq\n",
      "Processing Record 4 of Set 3 : tiksi\n",
      "Processing Record 5 of Set 3 : komagane\n",
      "Processing Record 6 of Set 3 : erzin\n",
      "Processing Record 7 of Set 3 : namatanai\n",
      "Processing Record 8 of Set 3 : wanning\n",
      "Processing Record 9 of Set 3 : norsup\n",
      "Processing Record 10 of Set 3 : kavieng\n",
      "Processing Record 11 of Set 3 : mendez\n",
      "Processing Record 12 of Set 3 : noumea\n",
      "Processing Record 13 of Set 3 : khasan\n",
      "Processing Record 14 of Set 3 : new norfolk\n",
      "Processing Record 15 of Set 3 : provideniya\n",
      "Processing Record 16 of Set 3 : kaitangata\n",
      "Processing Record 17 of Set 3 : xiongzhou\n",
      "Processing Record 18 of Set 3 : bambous virieux\n",
      "Processing Record 19 of Set 3 : constitucion\n",
      "Processing Record 20 of Set 3 : manokwari\n",
      "Processing Record 21 of Set 3 : vila franca do campo\n",
      "Processing Record 22 of Set 3 : severo-kurilsk\n",
      "Processing Record 23 of Set 3 : mandan\n",
      "City not found. Skipping...\n",
      "Processing Record 24 of Set 3 : northview\n",
      "Processing Record 25 of Set 3 : ubala\n",
      "Processing Record 26 of Set 3 : manadhoo\n",
      "Processing Record 27 of Set 3 : kapaa\n",
      "Processing Record 28 of Set 3 : huinan\n",
      "Processing Record 29 of Set 3 : ostrovnoy\n",
      "Processing Record 30 of Set 3 : ambovombe\n",
      "Processing Record 31 of Set 3 : micheweni\n",
      "Processing Record 32 of Set 3 : caravelas\n",
      "Processing Record 33 of Set 3 : flinders\n",
      "Processing Record 34 of Set 3 : isangel\n",
      "Processing Record 35 of Set 3 : deer lake\n",
      "Processing Record 36 of Set 3 : arraial do cabo\n",
      "Processing Record 37 of Set 3 : quatre cocos\n",
      "Processing Record 38 of Set 3 : saint-philippe\n",
      "City not found. Skipping...\n",
      "Processing Record 39 of Set 3 : avera\n",
      "Processing Record 40 of Set 3 : ewo\n",
      "Processing Record 41 of Set 3 : abalak\n",
      "Processing Record 42 of Set 3 : jamestown\n",
      "Processing Record 43 of Set 3 : high level\n",
      "Processing Record 44 of Set 3 : riyadh\n",
      "Processing Record 45 of Set 3 : kargasok\n",
      "Processing Record 46 of Set 3 : fortuna\n",
      "Processing Record 47 of Set 3 : husavik\n",
      "Processing Record 48 of Set 3 : yangambi\n",
      "City not found. Skipping...\n",
      "Processing Record 49 of Set 3 : varkaus\n",
      "Processing Record 50 of Set 3 : upernavik\n",
      "Processing Record 0 of Set 4 : luba\n",
      "Processing Record 1 of Set 4 : pevek\n",
      "Processing Record 2 of Set 4 : athabasca\n",
      "Processing Record 3 of Set 4 : petropavlovsk-kamchatskiy\n",
      "Processing Record 4 of Set 4 : san rafael\n",
      "Processing Record 5 of Set 4 : kirakira\n",
      "Processing Record 6 of Set 4 : chikwawa\n",
      "Processing Record 7 of Set 4 : thinadhoo\n",
      "Processing Record 8 of Set 4 : broome\n",
      "Processing Record 9 of Set 4 : tuatapere\n",
      "Processing Record 10 of Set 4 : san jose\n",
      "Processing Record 11 of Set 4 : vra\n",
      "Processing Record 12 of Set 4 : chicama\n",
      "Processing Record 13 of Set 4 : talara\n",
      "Processing Record 14 of Set 4 : fare\n",
      "City not found. Skipping...\n",
      "Processing Record 15 of Set 4 : srimushnam\n",
      "Processing Record 16 of Set 4 : innisfail\n",
      "Processing Record 17 of Set 4 : deyang\n",
      "Processing Record 18 of Set 4 : lorengau\n",
      "Processing Record 19 of Set 4 : veraval\n",
      "Processing Record 20 of Set 4 : beloha\n",
      "City not found. Skipping...\n",
      "Processing Record 21 of Set 4 : vila velha\n",
      "City not found. Skipping...\n",
      "Processing Record 22 of Set 4 : shitanjing\n",
      "Processing Record 23 of Set 4 : katsuura\n",
      "Processing Record 24 of Set 4 : manbij\n",
      "Processing Record 25 of Set 4 : ca mau\n",
      "Processing Record 26 of Set 4 : tomatlan\n",
      "Processing Record 27 of Set 4 : peleduy\n",
      "Processing Record 28 of Set 4 : camacha\n",
      "Processing Record 29 of Set 4 : atar\n",
      "Processing Record 30 of Set 4 : gizo\n",
      "Processing Record 31 of Set 4 : dikson\n",
      "Processing Record 32 of Set 4 : esperance\n",
      "Processing Record 33 of Set 4 : qandala\n",
      "Processing Record 34 of Set 4 : vestmannaeyjar\n",
      "Processing Record 35 of Set 4 : port lincoln\n"
     ]
    },
    {
     "name": "stdout",
     "output_type": "stream",
     "text": [
      "Processing Record 36 of Set 4 : avarua\n",
      "Processing Record 37 of Set 4 : sao joao da barra\n",
      "Processing Record 38 of Set 4 : luangwa\n",
      "Processing Record 39 of Set 4 : guaruja\n",
      "Processing Record 40 of Set 4 : aklavik\n",
      "Processing Record 41 of Set 4 : talaya\n",
      "Processing Record 42 of Set 4 : saskylakh\n",
      "Processing Record 43 of Set 4 : chimbote\n",
      "Processing Record 44 of Set 4 : goderich\n",
      "Processing Record 45 of Set 4 : ponta do sol\n",
      "Processing Record 46 of Set 4 : san patricio\n",
      "City not found. Skipping...\n",
      "Processing Record 47 of Set 4 : sorochinsk\n",
      "Processing Record 48 of Set 4 : kalevala\n",
      "Processing Record 49 of Set 4 : batagay\n",
      "Processing Record 50 of Set 4 : borovskoy\n",
      "Processing Record 0 of Set 5 : velsk\n",
      "Processing Record 1 of Set 5 : hirara\n",
      "Processing Record 2 of Set 5 : sao filipe\n",
      "Processing Record 3 of Set 5 : victoria\n",
      "Processing Record 4 of Set 5 : saint-pierre\n",
      "Processing Record 5 of Set 5 : larsnes\n",
      "Processing Record 6 of Set 5 : guiratinga\n",
      "Processing Record 7 of Set 5 : romanovo\n",
      "Processing Record 8 of Set 5 : casa grande\n",
      "Processing Record 9 of Set 5 : thompson\n",
      "Processing Record 10 of Set 5 : road town\n",
      "Processing Record 11 of Set 5 : nautla\n",
      "Processing Record 12 of Set 5 : gharghoda\n",
      "City not found. Skipping...\n",
      "Processing Record 13 of Set 5 : haapsalu\n",
      "Processing Record 14 of Set 5 : narbonne\n",
      "Processing Record 15 of Set 5 : victoria point\n",
      "Processing Record 16 of Set 5 : novotroitsk\n",
      "Processing Record 17 of Set 5 : cherskiy\n",
      "Processing Record 18 of Set 5 : aljezur\n",
      "Processing Record 19 of Set 5 : berlevag\n",
      "Processing Record 20 of Set 5 : bud\n",
      "Processing Record 21 of Set 5 : jieshi\n",
      "City not found. Skipping...\n",
      "Processing Record 22 of Set 5 : ferme-neuve\n",
      "Processing Record 23 of Set 5 : svetlogorsk\n",
      "Processing Record 24 of Set 5 : general teran\n",
      "Processing Record 25 of Set 5 : korla\n",
      "Processing Record 26 of Set 5 : butaritari\n",
      "Processing Record 27 of Set 5 : chuy\n",
      "Processing Record 28 of Set 5 : bukachacha\n",
      "Processing Record 29 of Set 5 : cockburn town\n",
      "Processing Record 30 of Set 5 : mahon\n",
      "Processing Record 31 of Set 5 : noyabrsk\n",
      "Processing Record 32 of Set 5 : winnemucca\n",
      "Processing Record 33 of Set 5 : iwaki\n",
      "Processing Record 34 of Set 5 : manzhouli\n",
      "Processing Record 35 of Set 5 : twentynine palms\n",
      "Processing Record 36 of Set 5 : khatanga\n",
      "Processing Record 37 of Set 5 : hurricane\n",
      "Processing Record 38 of Set 5 : salalah\n",
      "City not found. Skipping...\n",
      "Processing Record 39 of Set 5 : hovd\n",
      "Processing Record 40 of Set 5 : bubaque\n",
      "Processing Record 41 of Set 5 : kapit\n",
      "Processing Record 42 of Set 5 : yar-sale\n",
      "Processing Record 43 of Set 5 : bandarbeyla\n",
      "Processing Record 44 of Set 5 : akdepe\n",
      "Processing Record 45 of Set 5 : mattru\n",
      "Processing Record 46 of Set 5 : labuan\n",
      "Processing Record 47 of Set 5 : moron\n",
      "Processing Record 48 of Set 5 : gimli\n",
      "Processing Record 49 of Set 5 : hofn\n",
      "Processing Record 50 of Set 5 : saint george\n",
      "Processing Record 0 of Set 6 : itoman\n",
      "Processing Record 1 of Set 6 : magaria\n",
      "Processing Record 2 of Set 6 : taltal\n",
      "Processing Record 3 of Set 6 : bambanglipuro\n",
      "Processing Record 4 of Set 6 : souillac\n",
      "Processing Record 5 of Set 6 : nanortalik\n",
      "Processing Record 6 of Set 6 : porto tolle\n",
      "City not found. Skipping...\n",
      "City not found. Skipping...\n",
      "Processing Record 7 of Set 6 : dingle\n",
      "Processing Record 8 of Set 6 : te anau\n",
      "Processing Record 9 of Set 6 : wahiawa\n",
      "City not found. Skipping...\n",
      "Processing Record 10 of Set 6 : sidi ali\n",
      "Processing Record 11 of Set 6 : stornoway\n",
      "City not found. Skipping...\n",
      "Processing Record 12 of Set 6 : olafsvik\n",
      "Processing Record 13 of Set 6 : longyearbyen\n",
      "City not found. Skipping...\n",
      "Processing Record 14 of Set 6 : kichera\n",
      "Processing Record 15 of Set 6 : marsh harbour\n",
      "Processing Record 16 of Set 6 : ternate\n",
      "Processing Record 17 of Set 6 : mazagao\n",
      "Processing Record 18 of Set 6 : nagato\n",
      "Processing Record 19 of Set 6 : nome\n",
      "Processing Record 20 of Set 6 : voznesenye\n",
      "Processing Record 21 of Set 6 : abonnema\n",
      "Processing Record 22 of Set 6 : doctor juan manuel frutos\n",
      "Processing Record 23 of Set 6 : coihaique\n",
      "Processing Record 24 of Set 6 : teya\n",
      "Processing Record 25 of Set 6 : arrecife\n",
      "Processing Record 26 of Set 6 : narsaq\n",
      "Processing Record 27 of Set 6 : glowno\n",
      "Processing Record 28 of Set 6 : kingisepp\n",
      "Processing Record 29 of Set 6 : luderitz\n",
      "Processing Record 30 of Set 6 : marawi\n",
      "Processing Record 31 of Set 6 : udachnyy\n",
      "Processing Record 32 of Set 6 : roma\n",
      "Processing Record 33 of Set 6 : saint-augustin\n",
      "Processing Record 34 of Set 6 : kloulklubed\n",
      "Processing Record 35 of Set 6 : thohoyandou\n",
      "Processing Record 36 of Set 6 : puerto vallarta\n",
      "Processing Record 37 of Set 6 : ribas do rio pardo\n",
      "Processing Record 38 of Set 6 : clyde river\n",
      "Processing Record 39 of Set 6 : quesada\n",
      "Processing Record 40 of Set 6 : teguldet\n",
      "Processing Record 41 of Set 6 : shingu\n",
      "Processing Record 42 of Set 6 : pucara\n",
      "Processing Record 43 of Set 6 : ola\n",
      "Processing Record 44 of Set 6 : xiaoweizhai\n",
      "Processing Record 45 of Set 6 : aban\n",
      "Processing Record 46 of Set 6 : nchelenge\n",
      "Processing Record 47 of Set 6 : rio grande\n",
      "Processing Record 48 of Set 6 : castro\n",
      "Processing Record 49 of Set 6 : fez\n",
      "Processing Record 50 of Set 6 : yulara\n",
      "Processing Record 0 of Set 7 : iqaluit\n",
      "City not found. Skipping...\n",
      "Processing Record 1 of Set 7 : sobolevo\n",
      "Processing Record 2 of Set 7 : tura\n",
      "Processing Record 3 of Set 7 : oxbow\n",
      "Processing Record 4 of Set 7 : campo largo\n",
      "Processing Record 5 of Set 7 : portland\n",
      "Processing Record 6 of Set 7 : ilebo\n",
      "Processing Record 7 of Set 7 : mana\n",
      "Processing Record 8 of Set 7 : ancud\n",
      "Processing Record 9 of Set 7 : czechowice-dziedzice\n",
      "Processing Record 10 of Set 7 : ornskoldsvik\n",
      "Processing Record 11 of Set 7 : vung tau\n",
      "Processing Record 12 of Set 7 : mezen\n",
      "Processing Record 13 of Set 7 : kovdor\n",
      "Processing Record 14 of Set 7 : hami\n",
      "Processing Record 15 of Set 7 : san vicente\n",
      "Processing Record 16 of Set 7 : puerto varas\n",
      "Processing Record 17 of Set 7 : biltine\n",
      "Processing Record 18 of Set 7 : firminy\n",
      "Processing Record 19 of Set 7 : auki\n",
      "Processing Record 20 of Set 7 : ransang\n",
      "Processing Record 21 of Set 7 : raton\n",
      "City not found. Skipping...\n",
      "Processing Record 22 of Set 7 : puerto ayacucho\n",
      "Processing Record 23 of Set 7 : lerwick\n",
      "Processing Record 24 of Set 7 : pontianak\n",
      "Processing Record 25 of Set 7 : urucara\n",
      "Processing Record 26 of Set 7 : itarema\n",
      "Processing Record 27 of Set 7 : tingi\n",
      "Processing Record 28 of Set 7 : port blair\n",
      "Processing Record 29 of Set 7 : beringovskiy\n",
      "Processing Record 30 of Set 7 : lazaro cardenas\n",
      "Processing Record 31 of Set 7 : saint anthony\n",
      "Processing Record 32 of Set 7 : dawlatabad\n",
      "Processing Record 33 of Set 7 : sola\n",
      "Processing Record 34 of Set 7 : cullera\n",
      "Processing Record 35 of Set 7 : naze\n",
      "Processing Record 36 of Set 7 : waipawa\n",
      "Processing Record 37 of Set 7 : aykhal\n",
      "Processing Record 38 of Set 7 : araguaina\n",
      "Processing Record 39 of Set 7 : abha\n",
      "Processing Record 40 of Set 7 : santa cruz\n",
      "Processing Record 41 of Set 7 : sur\n",
      "Processing Record 42 of Set 7 : oranjemund\n",
      "Processing Record 43 of Set 7 : brae\n",
      "Processing Record 44 of Set 7 : pacific grove\n",
      "Processing Record 45 of Set 7 : santa maria\n",
      "Processing Record 46 of Set 7 : kutum\n",
      "Processing Record 47 of Set 7 : svetlyy\n",
      "Processing Record 48 of Set 7 : santa cruz de la palma\n",
      "Processing Record 49 of Set 7 : saint andrews\n",
      "Processing Record 50 of Set 7 : kaeo\n",
      "Processing Record 0 of Set 8 : jacareacanga\n",
      "Processing Record 1 of Set 8 : denpasar\n",
      "Processing Record 2 of Set 8 : rosetta\n",
      "Processing Record 3 of Set 8 : pochutla\n",
      "Processing Record 4 of Set 8 : nizhnekamsk\n",
      "Processing Record 5 of Set 8 : omboue\n",
      "Processing Record 6 of Set 8 : sitka\n",
      "Processing Record 7 of Set 8 : agadir\n",
      "Processing Record 8 of Set 8 : bongandanga\n",
      "Processing Record 9 of Set 8 : morro bay\n",
      "Processing Record 10 of Set 8 : usinsk\n",
      "Processing Record 11 of Set 8 : cerkezkoy\n",
      "Processing Record 12 of Set 8 : oyem\n",
      "Processing Record 13 of Set 8 : bilibino\n",
      "Processing Record 14 of Set 8 : zyryanka\n",
      "Processing Record 15 of Set 8 : tak\n",
      "Processing Record 16 of Set 8 : kerema\n",
      "Processing Record 17 of Set 8 : upata\n",
      "Processing Record 18 of Set 8 : meulaboh\n",
      "Processing Record 19 of Set 8 : polyarnyy\n",
      "Processing Record 20 of Set 8 : nantucket\n",
      "Processing Record 21 of Set 8 : erenhot\n",
      "Processing Record 22 of Set 8 : morehead\n",
      "Processing Record 23 of Set 8 : kamenka\n",
      "Processing Record 24 of Set 8 : noshiro\n"
     ]
    },
    {
     "name": "stdout",
     "output_type": "stream",
     "text": [
      "Processing Record 25 of Set 8 : alta floresta\n",
      "Processing Record 26 of Set 8 : sorsk\n",
      "Processing Record 27 of Set 8 : arroyo\n",
      "Processing Record 28 of Set 8 : jiutai\n",
      "Processing Record 29 of Set 8 : venice\n",
      "Processing Record 30 of Set 8 : kalmunai\n",
      "Processing Record 31 of Set 8 : rabak\n",
      "Processing Record 32 of Set 8 : manggar\n",
      "Processing Record 33 of Set 8 : brezovo\n",
      "Processing Record 34 of Set 8 : homer\n",
      "City not found. Skipping...\n",
      "Processing Record 35 of Set 8 : bam\n",
      "Processing Record 36 of Set 8 : half moon bay\n",
      "Processing Record 37 of Set 8 : byron bay\n",
      "Processing Record 38 of Set 8 : college\n",
      "Processing Record 39 of Set 8 : acurenam\n",
      "Processing Record 40 of Set 8 : tsiroanomandidy\n",
      "Processing Record 41 of Set 8 : kati\n",
      "Processing Record 42 of Set 8 : moa\n",
      "Processing Record 43 of Set 8 : melo\n",
      "Processing Record 44 of Set 8 : waitati\n",
      "Processing Record 45 of Set 8 : jinji\n",
      "Processing Record 46 of Set 8 : port keats\n",
      "Processing Record 47 of Set 8 : terrace\n",
      "Processing Record 48 of Set 8 : sheltozero\n",
      "Processing Record 49 of Set 8 : rovnoye\n",
      "Processing Record 50 of Set 8 : markova\n",
      "Processing Record 0 of Set 9 : alexandria\n",
      "Processing Record 1 of Set 9 : mahibadhoo\n",
      "Processing Record 2 of Set 9 : sept-iles\n",
      "Processing Record 3 of Set 9 : taksimo\n",
      "Processing Record 4 of Set 9 : puerto maldonado\n",
      "City not found. Skipping...\n",
      "Processing Record 5 of Set 9 : bilma\n",
      "Processing Record 6 of Set 9 : port hardy\n",
      "Processing Record 7 of Set 9 : morant bay\n",
      "Processing Record 8 of Set 9 : rosa zarate\n",
      "Processing Record 9 of Set 9 : buchanan\n",
      "Processing Record 10 of Set 9 : faya\n",
      "City not found. Skipping...\n",
      "Processing Record 11 of Set 9 : lima\n",
      "Processing Record 12 of Set 9 : pilar\n",
      "Processing Record 13 of Set 9 : plettenberg bay\n",
      "Processing Record 14 of Set 9 : lompoc\n",
      "Processing Record 15 of Set 9 : sikeston\n",
      "Processing Record 16 of Set 9 : wittmund\n",
      "Processing Record 17 of Set 9 : sinnamary\n",
      "Processing Record 18 of Set 9 : turbat\n",
      "City not found. Skipping...\n",
      "Processing Record 19 of Set 9 : bima\n",
      "Processing Record 20 of Set 9 : hamilton\n",
      "Processing Record 21 of Set 9 : narasannapeta\n",
      "Processing Record 22 of Set 9 : panguna\n",
      "Processing Record 23 of Set 9 : saint-gaudens\n",
      "Processing Record 24 of Set 9 : dubai\n",
      "Processing Record 25 of Set 9 : mayo\n",
      "Processing Record 26 of Set 9 : phichit\n",
      "Processing Record 27 of Set 9 : santa rosa\n",
      "Processing Record 28 of Set 9 : nelson bay\n",
      "Processing Record 29 of Set 9 : deputatskiy\n",
      "Processing Record 30 of Set 9 : tiznit\n",
      "Processing Record 31 of Set 9 : boguchany\n",
      "Processing Record 32 of Set 9 : lucea\n",
      "Processing Record 33 of Set 9 : shieli\n",
      "Processing Record 34 of Set 9 : gao\n",
      "Processing Record 35 of Set 9 : paamiut\n",
      "Processing Record 36 of Set 9 : san antonio\n",
      "Processing Record 37 of Set 9 : betul\n",
      "Processing Record 38 of Set 9 : nahavand\n",
      "Processing Record 39 of Set 9 : vila\n",
      "Processing Record 40 of Set 9 : palu\n",
      "Processing Record 41 of Set 9 : vanavara\n",
      "Processing Record 42 of Set 9 : hwange\n",
      "Processing Record 43 of Set 9 : atima\n",
      "Processing Record 44 of Set 9 : komsomolskiy\n",
      "Processing Record 45 of Set 9 : george\n",
      "Processing Record 46 of Set 9 : vestmanna\n",
      "Processing Record 47 of Set 9 : bathsheba\n",
      "Processing Record 48 of Set 9 : palora\n",
      "Processing Record 49 of Set 9 : bellary\n",
      "Processing Record 50 of Set 9 : shimoda\n",
      "Processing Record 0 of Set 10 : alofi\n",
      "Processing Record 1 of Set 10 : bara\n",
      "Processing Record 2 of Set 10 : simao\n",
      "Processing Record 3 of Set 10 : daru\n",
      "Processing Record 4 of Set 10 : bozeman\n",
      "Processing Record 5 of Set 10 : chabahar\n",
      "Processing Record 6 of Set 10 : loubomo\n",
      "Processing Record 7 of Set 10 : rorvik\n",
      "Processing Record 8 of Set 10 : lashio\n",
      "Processing Record 9 of Set 10 : san francisco del mar\n",
      "Processing Record 10 of Set 10 : tilichiki\n",
      "Processing Record 11 of Set 10 : faanui\n",
      "Processing Record 12 of Set 10 : saint-georges\n",
      "Processing Record 13 of Set 10 : hot springs\n",
      "Processing Record 14 of Set 10 : anadyr\n",
      "Processing Record 15 of Set 10 : victor harbor\n",
      "Processing Record 16 of Set 10 : mount isa\n",
      "Processing Record 17 of Set 10 : teknaf\n",
      "Processing Record 18 of Set 10 : shubarkuduk\n",
      "Processing Record 19 of Set 10 : sangmelima\n",
      "Processing Record 20 of Set 10 : murray bridge\n",
      "Processing Record 21 of Set 10 : el tigre\n",
      "Processing Record 22 of Set 10 : ahuimanu\n",
      "Processing Record 23 of Set 10 : prince rupert\n",
      "Processing Record 24 of Set 10 : salmas\n",
      "Processing Record 25 of Set 10 : praia da vitoria\n",
      "Processing Record 26 of Set 10 : redcliffe\n",
      "City not found. Skipping...\n",
      "Processing Record 27 of Set 10 : moen\n",
      "Processing Record 28 of Set 10 : inongo\n",
      "Processing Record 29 of Set 10 : mountrath\n",
      "Processing Record 30 of Set 10 : meadow lake\n",
      "Processing Record 31 of Set 10 : asyut\n",
      "Processing Record 32 of Set 10 : mandalgovi\n",
      "Processing Record 33 of Set 10 : bodden town\n",
      "Processing Record 34 of Set 10 : saint-louis\n",
      "Processing Record 35 of Set 10 : poltava\n",
      "Processing Record 36 of Set 10 : san cristobal\n",
      "Processing Record 37 of Set 10 : myitkyina\n",
      "Processing Record 38 of Set 10 : wanaka\n",
      "Processing Record 39 of Set 10 : emirdag\n",
      "Processing Record 40 of Set 10 : sines\n",
      "Processing Record 41 of Set 10 : alma\n",
      "Processing Record 42 of Set 10 : vardo\n",
      "Processing Record 43 of Set 10 : mehamn\n",
      "Processing Record 44 of Set 10 : kavaratti\n",
      "Processing Record 45 of Set 10 : paraiso\n",
      "Processing Record 46 of Set 10 : alice springs\n",
      "Processing Record 47 of Set 10 : nikolayevsk-na-amure\n",
      "Processing Record 48 of Set 10 : mocuba\n",
      "Processing Record 49 of Set 10 : parry sound\n",
      "Processing Record 50 of Set 10 : coahuayana\n",
      "Processing Record 0 of Set 11 : sao felix do xingu\n",
      "Processing Record 1 of Set 11 : bukene\n",
      "Processing Record 2 of Set 11 : koumac\n",
      "Processing Record 3 of Set 11 : wembley\n",
      "Processing Record 4 of Set 11 : rafaela\n",
      "Processing Record 5 of Set 11 : akyab\n",
      "Processing Record 6 of Set 11 : makakilo city\n",
      "Processing Record 7 of Set 11 : sao gabriel da cachoeira\n",
      "Processing Record 8 of Set 11 : sydney\n",
      "Processing Record 9 of Set 11 : port-gentil\n",
      "Processing Record 10 of Set 11 : gidam\n",
      "City not found. Skipping...\n",
      "Processing Record 11 of Set 11 : maldonado\n",
      "Processing Record 12 of Set 11 : pitimbu\n",
      "Processing Record 13 of Set 11 : klaksvik\n",
      "City not found. Skipping...\n",
      "Processing Record 14 of Set 11 : cap malheureux\n",
      "Processing Record 15 of Set 11 : vanimo\n",
      "Processing Record 16 of Set 11 : dali\n",
      "Processing Record 17 of Set 11 : sisimiut\n",
      "Processing Record 18 of Set 11 : trinidad\n",
      "Processing Record 19 of Set 11 : aksehir\n",
      "Processing Record 20 of Set 11 : hienghene\n",
      "Processing Record 21 of Set 11 : inhambane\n",
      "Processing Record 22 of Set 11 : cabo san lucas\n",
      "Processing Record 23 of Set 11 : malbork\n",
      "Processing Record 24 of Set 11 : grand-santi\n",
      "Processing Record 25 of Set 11 : chapais\n",
      "Processing Record 26 of Set 11 : yangjiang\n",
      "Processing Record 27 of Set 11 : cooma\n",
      "Processing Record 28 of Set 11 : dukat\n",
      "Processing Record 29 of Set 11 : calamar\n",
      "City not found. Skipping...\n",
      "Processing Record 30 of Set 11 : dauphin\n",
      "Processing Record 31 of Set 11 : bobo dioulasso\n",
      "Processing Record 32 of Set 11 : garachine\n",
      "Processing Record 33 of Set 11 : lakshmeshwar\n",
      "Processing Record 34 of Set 11 : vostok\n",
      "City not found. Skipping...\n",
      "Processing Record 35 of Set 11 : mildura\n",
      "City not found. Skipping...\n",
      "Processing Record 36 of Set 11 : nong kung si\n",
      "Processing Record 37 of Set 11 : banjar\n",
      "Processing Record 38 of Set 11 : tautira\n",
      "Processing Record 39 of Set 11 : tezu\n",
      "Processing Record 40 of Set 11 : whitehorse\n",
      "Processing Record 41 of Set 11 : balkanabat\n",
      "Processing Record 42 of Set 11 : peniche\n",
      "Processing Record 43 of Set 11 : manavgat\n",
      "Processing Record 44 of Set 11 : ikornnes\n",
      "Processing Record 45 of Set 11 : walvis bay\n",
      "-------------------------------\n",
      "Data Retrieval Complete\n",
      "-------------------------------\n"
     ]
    }
   ],
   "source": [
    "print(\"Beginning Data Retrieval \")\n",
    "print(\"-------------------------------\")\n",
    "\n",
    "base_url = \"http://api.openweathermap.org/data/2.5/weather?\"\n",
    "units = \"imperial\"\n",
    "query_url = f\"{base_url}appid={weather_api_key}&units={units}&q=\"\n",
    "\n",
    "#For loop matching city names with city_list using enumerate method\n",
    "for index, city in enumerate(cities, start = 1):\n",
    "    try:\n",
    "        response = requests.get(query_url + city).json()\n",
    "        city_list.append(response[\"name\"])\n",
    "        cloud_list.append(response[\"clouds\"][\"all\"])\n",
    "        country_list.append(response[\"sys\"][\"country\"])\n",
    "        date_list.append(response[\"dt\"])\n",
    "        humidity_list.append(response[\"main\"][\"humidity\"])\n",
    "        lats_list.append(response[\"coord\"][\"lat\"])\n",
    "        lngs_list.append(response[\"coord\"][\"lon\"])\n",
    "        temp_max_list.append(response['main']['temp_max'])\n",
    "        wind_speed_list.append(response[\"wind\"][\"speed\"])\n",
    "        \n",
    "        if index_counter > 49:\n",
    "            index_counter = 0\n",
    "            set_counter = set_counter + 1\n",
    "        \n",
    "        else:\n",
    "            index_counter = index_counter + 1\n",
    "        \n",
    "        print(f\"Processing Record {index_counter} of Set {set_counter} : {city}\")\n",
    "        \n",
    "    except(KeyError, IndexError):\n",
    "        print(\"City not found. Skipping...\")\n",
    "        \n",
    "print(\"-------------------------------\")\n",
    "print(\"Data Retrieval Complete\")\n",
    "print(\"-------------------------------\")\n",
    "        "
   ]
  },
  {
   "cell_type": "markdown",
   "metadata": {},
   "source": [
    "### Convert Raw Data to DataFrame\n",
    "* Export the city data into a .csv.\n",
    "* Display the DataFrame"
   ]
  },
  {
   "cell_type": "code",
   "execution_count": 11,
   "metadata": {},
   "outputs": [],
   "source": [
    "#Create a dataframe using information from data retrieval\n",
    "weather_data = pd.DataFrame({\n",
    "    \"City\" : city_list,\n",
    "    \"Lat\" : lats_list,\n",
    "    \"Lng\" : lngs_list,\n",
    "    \"Max Temp\" : temp_max_list,\n",
    "    \"Humidity\" : humidity_list,\n",
    "    \"Clouds\" : cloud_list,\n",
    "    \"Wind Speed\" : wind_speed_list,\n",
    "    \"Country\" : country_list,\n",
    "    \"Date\" : date_list    \n",
    "})"
   ]
  },
  {
   "cell_type": "code",
   "execution_count": 12,
   "metadata": {},
   "outputs": [
    {
     "data": {
      "text/plain": [
       "City          555\n",
       "Lat           555\n",
       "Lng           555\n",
       "Max Temp      555\n",
       "Humidity      555\n",
       "Clouds        555\n",
       "Wind Speed    555\n",
       "Country       555\n",
       "Date          555\n",
       "dtype: int64"
      ]
     },
     "execution_count": 12,
     "metadata": {},
     "output_type": "execute_result"
    }
   ],
   "source": [
    "#Count weather data\n",
    "weather_data.count()"
   ]
  },
  {
   "cell_type": "markdown",
   "metadata": {},
   "source": [
    "## Inspect the data and remove the cities where the humidity > 100%.\n",
    "----\n",
    "Skip this step if there are no cities that have humidity > 100%. "
   ]
  },
  {
   "cell_type": "code",
   "execution_count": null,
   "metadata": {},
   "outputs": [],
   "source": []
  },
  {
   "cell_type": "code",
   "execution_count": 13,
   "metadata": {},
   "outputs": [],
   "source": [
    "#  Get the indices of cities that have humidity over 100%.\n"
   ]
  },
  {
   "cell_type": "code",
   "execution_count": 15,
   "metadata": {},
   "outputs": [],
   "source": [
    "# Make a new DataFrame equal to the city data to drop all humidity outliers by index.\n",
    "# Passing \"inplace=False\" will make a copy of the city_data DataFrame, which we call \"clean_city_data\".\n",
    "weather_data.to_csv(\"../output_data/cities.csv\", index=False)"
   ]
  },
  {
   "cell_type": "code",
   "execution_count": null,
   "metadata": {},
   "outputs": [],
   "source": [
    "\n"
   ]
  },
  {
   "cell_type": "markdown",
   "metadata": {},
   "source": [
    "## Plotting the Data\n",
    "* Use proper labeling of the plots using plot titles (including date of analysis) and axes labels.\n",
    "* Save the plotted figures as .pngs."
   ]
  },
  {
   "cell_type": "markdown",
   "metadata": {},
   "source": [
    "## Latitude vs. Temperature Plot"
   ]
  },
  {
   "cell_type": "code",
   "execution_count": 16,
   "metadata": {
    "scrolled": true
   },
   "outputs": [
    {
     "data": {
      "image/png": "[encoded data removed]",
      "text/plain": [
       "<Figure size 432x288 with 1 Axes>"
      ]
     },
     "metadata": {
      "needs_background": "light"
     },
     "output_type": "display_data"
    }
   ],
   "source": [
    "plt.scatter(weather_data[\"Lat\"], weather_data[\"Max Temp\"], color = \"steelblue\", edgecolor = \"black\")\n",
    "\n",
    "plt.title(\"City Latitude vs. Max Temperature (06/18/20)\")\n",
    "plt.xlabel(\"Latitude\")\n",
    "plt.ylabel(\"Max Temperature (F)\")\n",
    "plt.grid(True)\n",
    "plt.savefig(\"../Images/City Latitude vs Max Temperature.png\")"
   ]
  },
  {
   "cell_type": "markdown",
   "metadata": {},
   "source": [
    "## Latitude vs. Humidity Plot"
   ]
  },
  {
   "cell_type": "code",
   "execution_count": 17,
   "metadata": {},
   "outputs": [
    {
     "data": {
      "image/png": "[encoded data removed]",
      "text/plain": [
       "<Figure size 432x288 with 1 Axes>"
      ]
     },
     "metadata": {
      "needs_background": "light"
     },
     "output_type": "display_data"
    }
   ],
   "source": [
    "plt.scatter(weather_data[\"Lat\"], weather_data[\"Humidity\"], color = \"steelblue\", edgecolor = \"black\")\n",
    "\n",
    "plt.title(\"City Latitude vs. Humidity (06/18/20)\")\n",
    "plt.xlabel(\"Latitude\")\n",
    "plt.ylabel(\"Humidity (%))\")\n",
    "plt.grid(True)\n",
    "plt.savefig(\"../Images/City Latitude vs Humidity.png\")"
   ]
  },
  {
   "cell_type": "markdown",
   "metadata": {},
   "source": [
    "## Latitude vs. Cloudiness Plot"
   ]
  },
  {
   "cell_type": "code",
   "execution_count": 18,
   "metadata": {},
   "outputs": [
    {
     "data": {
      "image/png": "[encoded data removed]",
      "text/plain": [
       "<Figure size 432x288 with 1 Axes>"
      ]
     },
     "metadata": {
      "needs_background": "light"
     },
     "output_type": "display_data"
    }
   ],
   "source": [
    "plt.scatter(weather_data[\"Lat\"], weather_data[\"Clouds\"], color = \"steelblue\", edgecolor = \"black\")\n",
    "\n",
    "plt.title(\"City Latitude vs. Cloudiness (06/18/20)\")\n",
    "plt.xlabel(\"Latitude\")\n",
    "plt.ylabel(\"Cloudiness (%))\")\n",
    "plt.grid(True)\n",
    "plt.savefig(\"../Images/City Latitude vs Cloudiness.png\")"
   ]
  },
  {
   "cell_type": "markdown",
   "metadata": {},
   "source": [
    "## Latitude vs. Wind Speed Plot"
   ]
  },
  {
   "cell_type": "code",
   "execution_count": 19,
   "metadata": {},
   "outputs": [
    {
     "data": {
      "image/png": "[encoded data removed]",
      "text/plain": [
       "<Figure size 432x288 with 1 Axes>"
      ]
     },
     "metadata": {
      "needs_background": "light"
     },
     "output_type": "display_data"
    }
   ],
   "source": [
    "#Latitude vs. Wind Speed Plot scatter plot\n",
    "plt.scatter(weather_data[\"Lat\"], weather_data[\"Wind Speed\"], color = \"steelblue\", edgecolor = \"black\")\n",
    "\n",
    "plt.title(\"City Latitude vs. Wind Speed (06/18/20)\")\n",
    "plt.xlabel(\"Latitude\")\n",
    "plt.ylabel(\"Wind Speed (%))\")\n",
    "plt.grid(True)\n",
    "plt.savefig(\"../Images/City Latitude vs Wind Speed.png\")"
   ]
  },
  {
   "cell_type": "markdown",
   "metadata": {},
   "source": [
    "## Linear Regression"
   ]
  },
  {
   "cell_type": "code",
   "execution_count": null,
   "metadata": {},
   "outputs": [],
   "source": []
  },
  {
   "cell_type": "markdown",
   "metadata": {},
   "source": [
    "####  Northern Hemisphere - Max Temp vs. Latitude Linear Regression"
   ]
  },
  {
   "cell_type": "code",
   "execution_count": null,
   "metadata": {},
   "outputs": [],
   "source": []
  },
  {
   "cell_type": "markdown",
   "metadata": {},
   "source": [
    "####  Southern Hemisphere - Max Temp vs. Latitude Linear Regression"
   ]
  },
  {
   "cell_type": "code",
   "execution_count": null,
   "metadata": {},
   "outputs": [],
   "source": []
  },
  {
   "cell_type": "markdown",
   "metadata": {},
   "source": [
    "####  Northern Hemisphere - Humidity (%) vs. Latitude Linear Regression"
   ]
  },
  {
   "cell_type": "code",
   "execution_count": null,
   "metadata": {},
   "outputs": [],
   "source": []
  },
  {
   "cell_type": "markdown",
   "metadata": {},
   "source": [
    "####  Southern Hemisphere - Humidity (%) vs. Latitude Linear Regression"
   ]
  },
  {
   "cell_type": "code",
   "execution_count": null,
   "metadata": {},
   "outputs": [],
   "source": []
  },
  {
   "cell_type": "markdown",
   "metadata": {},
   "source": [
    "####  Northern Hemisphere - Cloudiness (%) vs. Latitude Linear Regression"
   ]
  },
  {
   "cell_type": "code",
   "execution_count": null,
   "metadata": {},
   "outputs": [],
   "source": []
  },
  {
   "cell_type": "markdown",
   "metadata": {},
   "source": [
    "####  Southern Hemisphere - Cloudiness (%) vs. Latitude Linear Regression"
   ]
  },
  {
   "cell_type": "code",
   "execution_count": null,
   "metadata": {},
   "outputs": [],
   "source": []
  },
  {
   "cell_type": "markdown",
   "metadata": {},
   "source": [
    "####  Northern Hemisphere - Wind Speed (mph) vs. Latitude Linear Regression"
   ]
  },
  {
   "cell_type": "code",
   "execution_count": null,
   "metadata": {},
   "outputs": [],
   "source": []
  },
  {
   "cell_type": "markdown",
   "metadata": {},
   "source": [
    "####  Southern Hemisphere - Wind Speed (mph) vs. Latitude Linear Regression"
   ]
  },
  {
   "cell_type": "code",
   "execution_count": null,
   "metadata": {},
   "outputs": [],
   "source": []
  },
  {
   "cell_type": "code",
   "execution_count": null,
   "metadata": {},
   "outputs": [],
   "source": []
  }
 ],
 "metadata": {
  "anaconda-cloud": {},
  "kernel_info": {
   "name": "python3"
  },
  "kernelspec": {
   "display_name": "Python 3",
   "language": "python",
   "name": "python3"
  },
  "language_info": {
   "codemirror_mode": {
    "name": "ipython",
    "version": 3
   },
   "file_extension": ".py",
   "mimetype": "text/x-python",
   "name": "python",
   "nbconvert_exporter": "python",
   "pygments_lexer": "ipython3",
   "version": "3.8.5"
  },
  "latex_envs": {
   "LaTeX_envs_menu_present": true,
   "autoclose": false,
   "autocomplete": true,
   "bibliofile": "biblio.bib",
   "cite_by": "apalike",
   "current_citInitial": 1,
   "eqLabelWithNumbers": true,
   "eqNumInitial": 1,
   "hotkeys": {
    "equation": "Ctrl-E",
    "itemize": "Ctrl-I"
   },
   "labels_anchors": false,
   "latex_user_defs": false,
   "report_style_numbering": false,
   "user_envs_cfg": false
  },
  "nteract": {
   "version": "0.12.3"
  }
 },
 "nbformat": 4,
 "nbformat_minor": 2
}
