{
 "cells": [
  {
   "cell_type": "markdown",
   "metadata": {},
   "source": [
    "# WeatherPy\n",
    "----\n",
    "\n",
    "#### Note\n",
    "* Instructions have been included for each segment. You do not have to follow them exactly, but they are included to help you think through the steps."
   ]
  },
  {
   "cell_type": "code",
   "execution_count": 36,
   "metadata": {
    "scrolled": true
   },
   "outputs": [],
   "source": [
    "# Dependencies and Setup\n",
    "import os\n",
    "import time\n",
    "import random\n",
    "import matplotlib.pyplot as plt\n",
    "import pandas as pd\n",
    "import numpy as np\n",
    "import requests\n",
    "import time\n",
    "from scipy.stats import linregress\n",
    "import json\n",
    "from pprint import pprint\n",
    "\n",
    "\n",
    "# Import API key\n",
    "from api_keys import weather_api_key\n",
    "from api_keys import g_key\n",
    "\n",
    "# Incorporated citipy to determine city based on latitude and longitude\n",
    "from citipy import citipy\n",
    "\n",
    "# Output File (CSV)\n",
    "output_data_file = \"output_data/cities.csv\"\n",
    "\n",
    "# Range of latitudes and longitudes\n",
    "lat_range = (-90, 90)\n",
    "lng_range = (-180, 180)"
   ]
  },
  {
   "cell_type": "markdown",
   "metadata": {},
   "source": [
    "## Generate Cities List"
   ]
  },
  {
   "cell_type": "code",
   "execution_count": 37,
   "metadata": {},
   "outputs": [
    {
     "data": {
      "text/plain": [
       "624"
      ]
     },
     "execution_count": 37,
     "metadata": {},
     "output_type": "execute_result"
    }
   ],
   "source": [
    "lat_lngs = []\n",
    "cities = []\n",
    "\n",
    "# Create a set of random lat and lng combinations\n",
    "lats = np.random.uniform(lat_range[0], lat_range[1], size=1500)\n",
    "lngs = np.random.uniform(lng_range[0], lng_range[1], size=1500)\n",
    "lat_lngs = zip(lats, lngs)\n",
    "\n",
    "# Identify nearest city for each lat, lng combination\n",
    "for lat_lng in lat_lngs:\n",
    "    city = citipy.nearest_city(lat_lng[0], lat_lng[1]).city_name\n",
    "    \n",
    "    # If the city is unique, then add it to a our cities list\n",
    "    if city not in cities:\n",
    "        cities.append(city)\n",
    "\n",
    "# Print the city count to confirm sufficient count\n",
    "len(cities)\n",
    "\n"
   ]
  },
  {
   "cell_type": "code",
   "execution_count": 38,
   "metadata": {},
   "outputs": [],
   "source": [
    "city_list = []\n",
    "cloud_list = []\n",
    "country_list = []\n",
    "date_list = []\n",
    "humidity_list = []\n",
    "lats_list = []\n",
    "lngs_list = []\n",
    "temp_max_list = []\n",
    "wind_speed_list = []\n",
    "index_counter = 0\n",
    "set_counter = 1"
   ]
  },
  {
   "cell_type": "markdown",
   "metadata": {},
   "source": [
    "### Perform API Calls\n",
    "* Perform a weather check on each city using a series of successive API calls.\n",
    "* Include a print log of each city as it'sbeing processed (with the city number and city name).\n"
   ]
  },
  {
   "cell_type": "code",
   "execution_count": 39,
   "metadata": {
    "scrolled": true
   },
   "outputs": [
    {
     "name": "stdout",
     "output_type": "stream",
     "text": [
      "Beginning Data Retrieval \n",
      "-------------------------------\n",
      "Processing Record 1 of Set 1 : mar del plata\n",
      "Processing Record 2 of Set 1 : boda\n",
      "Processing Record 3 of Set 1 : lavrentiya\n",
      "City not found. Skipping...\n",
      "Processing Record 4 of Set 1 : chilca\n",
      "Processing Record 5 of Set 1 : saquena\n",
      "Processing Record 6 of Set 1 : hermanus\n",
      "Processing Record 7 of Set 1 : aras\n",
      "City not found. Skipping...\n",
      "Processing Record 8 of Set 1 : rikitea\n",
      "Processing Record 9 of Set 1 : nikolskoye\n",
      "Processing Record 10 of Set 1 : bilma\n",
      "Processing Record 11 of Set 1 : barrow\n",
      "Processing Record 12 of Set 1 : yining\n",
      "Processing Record 13 of Set 1 : acapulco\n",
      "Processing Record 14 of Set 1 : clyde river\n",
      "Processing Record 15 of Set 1 : bonavista\n",
      "Processing Record 16 of Set 1 : monrovia\n",
      "Processing Record 17 of Set 1 : busselton\n",
      "Processing Record 18 of Set 1 : hilo\n",
      "Processing Record 19 of Set 1 : souillac\n",
      "Processing Record 20 of Set 1 : san cristobal\n",
      "Processing Record 21 of Set 1 : hobart\n",
      "Processing Record 22 of Set 1 : kodiak\n",
      "Processing Record 23 of Set 1 : yulara\n",
      "Processing Record 24 of Set 1 : cape town\n",
      "Processing Record 25 of Set 1 : cherskiy\n",
      "Processing Record 26 of Set 1 : kapaa\n",
      "Processing Record 27 of Set 1 : tezu\n",
      "City not found. Skipping...\n",
      "Processing Record 28 of Set 1 : butaritari\n",
      "Processing Record 29 of Set 1 : sitka\n",
      "Processing Record 30 of Set 1 : luanda\n",
      "Processing Record 31 of Set 1 : jamestown\n",
      "Processing Record 32 of Set 1 : kununurra\n",
      "City not found. Skipping...\n",
      "City not found. Skipping...\n",
      "Processing Record 33 of Set 1 : rawson\n",
      "Processing Record 34 of Set 1 : talara\n",
      "Processing Record 35 of Set 1 : khatanga\n",
      "Processing Record 36 of Set 1 : iqaluit\n",
      "Processing Record 37 of Set 1 : katsuura\n",
      "Processing Record 38 of Set 1 : saskylakh\n",
      "Processing Record 39 of Set 1 : vaini\n",
      "City not found. Skipping...\n",
      "Processing Record 40 of Set 1 : lalibela\n",
      "Processing Record 41 of Set 1 : albany\n",
      "Processing Record 42 of Set 1 : punta arenas\n",
      "Processing Record 43 of Set 1 : sept-iles\n",
      "Processing Record 44 of Set 1 : baruun-urt\n",
      "Processing Record 45 of Set 1 : praia da vitoria\n",
      "Processing Record 46 of Set 1 : puerto ayora\n",
      "Processing Record 47 of Set 1 : yellowknife\n",
      "Processing Record 48 of Set 1 : seoul\n",
      "Processing Record 49 of Set 1 : mataura\n",
      "Processing Record 50 of Set 1 : peterhead\n",
      "Processing Record 0 of Set 2 : ukiah\n",
      "City not found. Skipping...\n",
      "Processing Record 1 of Set 2 : visby\n",
      "Processing Record 2 of Set 2 : tazovskiy\n",
      "Processing Record 3 of Set 2 : puerto maldonado\n",
      "Processing Record 4 of Set 2 : sao joao da barra\n",
      "Processing Record 5 of Set 2 : nyurba\n",
      "Processing Record 6 of Set 2 : atuona\n",
      "Processing Record 7 of Set 2 : andenes\n",
      "Processing Record 8 of Set 2 : havelock\n",
      "Processing Record 9 of Set 2 : qaanaaq\n",
      "Processing Record 10 of Set 2 : el alto\n",
      "Processing Record 11 of Set 2 : chuy\n",
      "Processing Record 12 of Set 2 : port alfred\n",
      "Processing Record 13 of Set 2 : lagoa\n",
      "Processing Record 14 of Set 2 : avarua\n",
      "Processing Record 15 of Set 2 : east london\n",
      "Processing Record 16 of Set 2 : tytuvenai\n",
      "Processing Record 17 of Set 2 : ahipara\n",
      "Processing Record 18 of Set 2 : new norfolk\n",
      "Processing Record 19 of Set 2 : ushuaia\n",
      "Processing Record 20 of Set 2 : esperance\n",
      "Processing Record 21 of Set 2 : bull savanna\n",
      "Processing Record 22 of Set 2 : baghdad\n",
      "Processing Record 23 of Set 2 : pachino\n",
      "Processing Record 24 of Set 2 : cayenne\n",
      "City not found. Skipping...\n",
      "Processing Record 25 of Set 2 : bluff\n",
      "Processing Record 26 of Set 2 : cockburn town\n",
      "Processing Record 27 of Set 2 : sao filipe\n",
      "Processing Record 28 of Set 2 : bredasdorp\n",
      "Processing Record 29 of Set 2 : north bend\n",
      "Processing Record 30 of Set 2 : rafai\n",
      "Processing Record 31 of Set 2 : afsin\n",
      "Processing Record 32 of Set 2 : pasni\n",
      "Processing Record 33 of Set 2 : asau\n",
      "Processing Record 34 of Set 2 : aquin\n",
      "Processing Record 35 of Set 2 : tigzirt\n",
      "Processing Record 36 of Set 2 : arraial do cabo\n",
      "Processing Record 37 of Set 2 : nago\n",
      "Processing Record 38 of Set 2 : georgetown\n",
      "Processing Record 39 of Set 2 : nanortalik\n",
      "Processing Record 40 of Set 2 : cidreira\n",
      "Processing Record 41 of Set 2 : norman wells\n",
      "Processing Record 42 of Set 2 : salalah\n",
      "Processing Record 43 of Set 2 : mahebourg\n",
      "Processing Record 44 of Set 2 : sawakin\n",
      "Processing Record 45 of Set 2 : abu samrah\n",
      "Processing Record 46 of Set 2 : araouane\n",
      "Processing Record 47 of Set 2 : tasiilaq\n",
      "Processing Record 48 of Set 2 : berzovia\n",
      "Processing Record 49 of Set 2 : kahului\n",
      "Processing Record 50 of Set 2 : bambous virieux\n",
      "City not found. Skipping...\n",
      "Processing Record 0 of Set 3 : saint anthony\n",
      "Processing Record 1 of Set 3 : kaitangata\n",
      "Processing Record 2 of Set 3 : buala\n",
      "Processing Record 3 of Set 3 : conchagua\n",
      "Processing Record 4 of Set 3 : lompoc\n",
      "Processing Record 5 of Set 3 : odienne\n",
      "Processing Record 6 of Set 3 : genhe\n",
      "Processing Record 7 of Set 3 : batagay\n",
      "City not found. Skipping...\n",
      "City not found. Skipping...\n",
      "Processing Record 8 of Set 3 : comodoro rivadavia\n",
      "Processing Record 9 of Set 3 : ilulissat\n",
      "Processing Record 10 of Set 3 : santa cruz\n",
      "Processing Record 11 of Set 3 : maunabo\n",
      "Processing Record 12 of Set 3 : la ronge\n",
      "Processing Record 13 of Set 3 : ust-nera\n",
      "Processing Record 14 of Set 3 : dikson\n",
      "Processing Record 15 of Set 3 : brigantine\n",
      "City not found. Skipping...\n",
      "Processing Record 16 of Set 3 : kutum\n",
      "Processing Record 17 of Set 3 : tual\n",
      "City not found. Skipping...\n",
      "Processing Record 18 of Set 3 : port elizabeth\n",
      "Processing Record 19 of Set 3 : boa vista\n",
      "Processing Record 20 of Set 3 : lebu\n",
      "Processing Record 21 of Set 3 : kaspiyskiy\n",
      "Processing Record 22 of Set 3 : bukachacha\n",
      "Processing Record 23 of Set 3 : hoquiam\n",
      "Processing Record 24 of Set 3 : rio gallegos\n",
      "Processing Record 25 of Set 3 : isabela\n",
      "Processing Record 26 of Set 3 : hasaki\n",
      "Processing Record 27 of Set 3 : vrangel\n",
      "Processing Record 28 of Set 3 : sobolevo\n",
      "Processing Record 29 of Set 3 : custoias\n",
      "Processing Record 30 of Set 3 : pasan\n",
      "Processing Record 31 of Set 3 : bela\n",
      "City not found. Skipping...\n",
      "Processing Record 32 of Set 3 : aykhal\n",
      "Processing Record 33 of Set 3 : sovetskiy\n",
      "Processing Record 34 of Set 3 : nabire\n",
      "Processing Record 35 of Set 3 : pavino\n",
      "Processing Record 36 of Set 3 : port macquarie\n",
      "Processing Record 37 of Set 3 : vila franca do campo\n",
      "Processing Record 38 of Set 3 : pevek\n",
      "Processing Record 39 of Set 3 : bud\n",
      "Processing Record 40 of Set 3 : aljezur\n",
      "Processing Record 41 of Set 3 : chumikan\n",
      "Processing Record 42 of Set 3 : tiznit\n",
      "Processing Record 43 of Set 3 : gat\n",
      "Processing Record 44 of Set 3 : sola\n",
      "City not found. Skipping...\n",
      "Processing Record 45 of Set 3 : roebourne\n",
      "Processing Record 46 of Set 3 : inuvik\n",
      "Processing Record 47 of Set 3 : wasilla\n",
      "Processing Record 48 of Set 3 : elizabethtown\n",
      "Processing Record 49 of Set 3 : itarema\n",
      "Processing Record 50 of Set 3 : kalmunai\n",
      "Processing Record 0 of Set 4 : bengkulu\n",
      "Processing Record 1 of Set 4 : palmer\n",
      "Processing Record 2 of Set 4 : beringovskiy\n",
      "Processing Record 3 of Set 4 : vao\n",
      "Processing Record 4 of Set 4 : aswan\n",
      "Processing Record 5 of Set 4 : abbeville\n",
      "Processing Record 6 of Set 4 : kjopsvik\n",
      "Processing Record 7 of Set 4 : guerrero negro\n",
      "Processing Record 8 of Set 4 : constitucion\n",
      "Processing Record 9 of Set 4 : tuatapere\n",
      "Processing Record 10 of Set 4 : harper\n",
      "Processing Record 11 of Set 4 : mana\n",
      "Processing Record 12 of Set 4 : tecoanapa\n",
      "Processing Record 13 of Set 4 : mazamitla\n",
      "Processing Record 14 of Set 4 : hare bay\n",
      "Processing Record 15 of Set 4 : tiksi\n",
      "Processing Record 16 of Set 4 : kumluca\n",
      "Processing Record 17 of Set 4 : japura\n",
      "Processing Record 18 of Set 4 : andros town\n",
      "Processing Record 19 of Set 4 : ancud\n",
      "Processing Record 20 of Set 4 : shingu\n",
      "Processing Record 21 of Set 4 : paita\n",
      "Processing Record 22 of Set 4 : denpasar\n",
      "Processing Record 23 of Set 4 : victoria\n",
      "Processing Record 24 of Set 4 : kholodnyy\n",
      "Processing Record 25 of Set 4 : adrar\n",
      "Processing Record 26 of Set 4 : anadyr\n",
      "Processing Record 27 of Set 4 : hithadhoo\n",
      "Processing Record 28 of Set 4 : muravlenko\n",
      "Processing Record 29 of Set 4 : ponta do sol\n",
      "Processing Record 30 of Set 4 : snezhnogorsk\n",
      "Processing Record 31 of Set 4 : bilibino\n",
      "Processing Record 32 of Set 4 : itoman\n",
      "Processing Record 33 of Set 4 : elko\n",
      "Processing Record 34 of Set 4 : hamilton\n",
      "Processing Record 35 of Set 4 : sampit\n",
      "Processing Record 36 of Set 4 : faanui\n",
      "Processing Record 37 of Set 4 : jiangyou\n",
      "Processing Record 38 of Set 4 : isiro\n"
     ]
    },
    {
     "name": "stdout",
     "output_type": "stream",
     "text": [
      "Processing Record 39 of Set 4 : ormara\n",
      "Processing Record 40 of Set 4 : kavaratti\n",
      "Processing Record 41 of Set 4 : huarmey\n",
      "Processing Record 42 of Set 4 : road town\n",
      "Processing Record 43 of Set 4 : jenison\n",
      "Processing Record 44 of Set 4 : mangochi\n",
      "Processing Record 45 of Set 4 : mosetse\n",
      "Processing Record 46 of Set 4 : kaeo\n",
      "Processing Record 47 of Set 4 : thunder bay\n",
      "Processing Record 48 of Set 4 : thinadhoo\n",
      "Processing Record 49 of Set 4 : kushima\n",
      "Processing Record 50 of Set 4 : castro\n",
      "Processing Record 0 of Set 5 : hervey bay\n",
      "Processing Record 1 of Set 5 : magadan\n",
      "City not found. Skipping...\n",
      "Processing Record 2 of Set 5 : santa cruz do capibaribe\n",
      "Processing Record 3 of Set 5 : great malvern\n",
      "Processing Record 4 of Set 5 : lasa\n",
      "Processing Record 5 of Set 5 : panaba\n",
      "Processing Record 6 of Set 5 : fortuna\n",
      "Processing Record 7 of Set 5 : guane\n",
      "Processing Record 8 of Set 5 : torbay\n",
      "Processing Record 9 of Set 5 : sisimiut\n",
      "Processing Record 10 of Set 5 : port lincoln\n",
      "Processing Record 11 of Set 5 : basco\n",
      "Processing Record 12 of Set 5 : aracoiaba\n",
      "Processing Record 13 of Set 5 : shangrao\n",
      "Processing Record 14 of Set 5 : karagaylinskiy\n",
      "City not found. Skipping...\n",
      "Processing Record 15 of Set 5 : samokov\n",
      "Processing Record 16 of Set 5 : daru\n",
      "Processing Record 17 of Set 5 : lieksa\n",
      "Processing Record 18 of Set 5 : chokurdakh\n",
      "Processing Record 19 of Set 5 : haicheng\n",
      "Processing Record 20 of Set 5 : mitchelstown\n",
      "Processing Record 21 of Set 5 : labuhan\n",
      "Processing Record 22 of Set 5 : pine bluff\n",
      "Processing Record 23 of Set 5 : tarboro\n",
      "Processing Record 24 of Set 5 : santa marinella\n",
      "Processing Record 25 of Set 5 : teguldet\n",
      "Processing Record 26 of Set 5 : urumqi\n",
      "Processing Record 27 of Set 5 : farafangana\n",
      "City not found. Skipping...\n",
      "Processing Record 28 of Set 5 : misratah\n",
      "Processing Record 29 of Set 5 : ola\n",
      "Processing Record 30 of Set 5 : nantucket\n",
      "Processing Record 31 of Set 5 : vitim\n",
      "Processing Record 32 of Set 5 : santander\n",
      "Processing Record 33 of Set 5 : provideniya\n",
      "City not found. Skipping...\n",
      "Processing Record 34 of Set 5 : elmshorn\n",
      "Processing Record 35 of Set 5 : piet retief\n",
      "Processing Record 36 of Set 5 : axim\n",
      "Processing Record 37 of Set 5 : las varas\n",
      "Processing Record 38 of Set 5 : san patricio\n",
      "Processing Record 39 of Set 5 : san ignacio\n",
      "City not found. Skipping...\n",
      "Processing Record 40 of Set 5 : tuktoyaktuk\n",
      "Processing Record 41 of Set 5 : kerrobert\n",
      "Processing Record 42 of Set 5 : vila\n",
      "Processing Record 43 of Set 5 : narsaq\n",
      "Processing Record 44 of Set 5 : port huron\n",
      "Processing Record 45 of Set 5 : saldanha\n",
      "Processing Record 46 of Set 5 : les cayes\n",
      "Processing Record 47 of Set 5 : swan hill\n",
      "Processing Record 48 of Set 5 : ribeira grande\n",
      "Processing Record 49 of Set 5 : oktyabrskiy\n",
      "Processing Record 50 of Set 5 : illapel\n",
      "Processing Record 0 of Set 6 : olafsvik\n",
      "Processing Record 1 of Set 6 : biak\n",
      "City not found. Skipping...\n",
      "Processing Record 2 of Set 6 : cape canaveral\n",
      "Processing Record 3 of Set 6 : impfondo\n",
      "Processing Record 4 of Set 6 : odesskoye\n",
      "Processing Record 5 of Set 6 : coruripe\n",
      "Processing Record 6 of Set 6 : goya\n",
      "Processing Record 7 of Set 6 : manzanillo\n",
      "Processing Record 8 of Set 6 : turayf\n",
      "Processing Record 9 of Set 6 : vanimo\n",
      "City not found. Skipping...\n",
      "City not found. Skipping...\n",
      "Processing Record 10 of Set 6 : geraldton\n",
      "City not found. Skipping...\n",
      "Processing Record 11 of Set 6 : berlevag\n",
      "City not found. Skipping...\n",
      "Processing Record 12 of Set 6 : tabas\n",
      "Processing Record 13 of Set 6 : skibbereen\n",
      "Processing Record 14 of Set 6 : saint-denis\n",
      "Processing Record 15 of Set 6 : port blair\n",
      "Processing Record 16 of Set 6 : umm lajj\n",
      "Processing Record 17 of Set 6 : cabo san lucas\n",
      "Processing Record 18 of Set 6 : gambo\n",
      "Processing Record 19 of Set 6 : nikolayevsk-na-amure\n",
      "Processing Record 20 of Set 6 : northam\n",
      "Processing Record 21 of Set 6 : codrington\n",
      "Processing Record 22 of Set 6 : upernavik\n",
      "Processing Record 23 of Set 6 : kusadak\n",
      "Processing Record 24 of Set 6 : yeppoon\n",
      "Processing Record 25 of Set 6 : tam ky\n",
      "Processing Record 26 of Set 6 : linfen\n",
      "City not found. Skipping...\n",
      "Processing Record 27 of Set 6 : avera\n",
      "Processing Record 28 of Set 6 : arlit\n",
      "Processing Record 29 of Set 6 : villars-sur-glane\n",
      "Processing Record 30 of Set 6 : severnoye\n",
      "Processing Record 31 of Set 6 : severo-kurilsk\n",
      "Processing Record 32 of Set 6 : otjimbingwe\n",
      "Processing Record 33 of Set 6 : trairi\n",
      "Processing Record 34 of Set 6 : porto novo\n",
      "Processing Record 35 of Set 6 : carbonia\n",
      "Processing Record 36 of Set 6 : golakganj\n",
      "Processing Record 37 of Set 6 : nusaybin\n",
      "Processing Record 38 of Set 6 : lumberton\n",
      "Processing Record 39 of Set 6 : saint-philippe\n",
      "City not found. Skipping...\n",
      "Processing Record 40 of Set 6 : romny\n",
      "Processing Record 41 of Set 6 : grand island\n",
      "Processing Record 42 of Set 6 : serpa\n",
      "Processing Record 43 of Set 6 : rorvik\n",
      "Processing Record 44 of Set 6 : zemaiciu naumiestis\n",
      "Processing Record 45 of Set 6 : novyy urgal\n",
      "Processing Record 46 of Set 6 : rameshki\n",
      "Processing Record 47 of Set 6 : marigot\n",
      "Processing Record 48 of Set 6 : marawi\n",
      "Processing Record 49 of Set 6 : mantua\n",
      "Processing Record 50 of Set 6 : khasan\n",
      "Processing Record 0 of Set 7 : bernalillo\n",
      "Processing Record 1 of Set 7 : swift current\n",
      "Processing Record 2 of Set 7 : gijon\n",
      "Processing Record 3 of Set 7 : nelson bay\n",
      "Processing Record 4 of Set 7 : fort nelson\n",
      "Processing Record 5 of Set 7 : teya\n",
      "Processing Record 6 of Set 7 : warrnambool\n",
      "Processing Record 7 of Set 7 : carnarvon\n",
      "Processing Record 8 of Set 7 : chapada dos guimaraes\n",
      "Processing Record 9 of Set 7 : lorengau\n",
      "Processing Record 10 of Set 7 : katherine\n",
      "Processing Record 11 of Set 7 : pozo colorado\n",
      "Processing Record 12 of Set 7 : seryshevo\n",
      "Processing Record 13 of Set 7 : havre-saint-pierre\n",
      "Processing Record 14 of Set 7 : saint george\n",
      "Processing Record 15 of Set 7 : morehead\n",
      "Processing Record 16 of Set 7 : dori\n",
      "Processing Record 17 of Set 7 : taoudenni\n",
      "City not found. Skipping...\n",
      "Processing Record 18 of Set 7 : lock haven\n",
      "Processing Record 19 of Set 7 : cartagena\n",
      "Processing Record 20 of Set 7 : maniitsoq\n",
      "Processing Record 21 of Set 7 : hofn\n",
      "Processing Record 22 of Set 7 : morondava\n",
      "Processing Record 23 of Set 7 : alghero\n",
      "City not found. Skipping...\n",
      "Processing Record 24 of Set 7 : baudh\n",
      "Processing Record 25 of Set 7 : srednekolymsk\n",
      "Processing Record 26 of Set 7 : zhicheng\n",
      "Processing Record 27 of Set 7 : nouadhibou\n",
      "Processing Record 28 of Set 7 : nemuro\n",
      "Processing Record 29 of Set 7 : komsomolskiy\n",
      "Processing Record 30 of Set 7 : holme\n",
      "Processing Record 31 of Set 7 : banda aceh\n",
      "Processing Record 32 of Set 7 : kupang\n",
      "Processing Record 33 of Set 7 : rypin\n",
      "Processing Record 34 of Set 7 : luderitz\n",
      "Processing Record 35 of Set 7 : leningradskiy\n",
      "Processing Record 36 of Set 7 : paamiut\n",
      "Processing Record 37 of Set 7 : boca do acre\n",
      "Processing Record 38 of Set 7 : wuchi\n",
      "Processing Record 39 of Set 7 : dingle\n",
      "Processing Record 40 of Set 7 : assiniboia\n",
      "Processing Record 41 of Set 7 : bonfim\n",
      "Processing Record 42 of Set 7 : husavik\n",
      "Processing Record 43 of Set 7 : nuuk\n",
      "Processing Record 44 of Set 7 : kristiinankaupunki\n",
      "Processing Record 45 of Set 7 : cascais\n",
      "Processing Record 46 of Set 7 : college\n",
      "Processing Record 47 of Set 7 : ibra\n",
      "Processing Record 48 of Set 7 : ambon\n",
      "Processing Record 49 of Set 7 : karratha\n",
      "Processing Record 50 of Set 7 : longyearbyen\n",
      "Processing Record 0 of Set 8 : cozumel\n",
      "Processing Record 1 of Set 8 : puerto baquerizo moreno\n",
      "Processing Record 2 of Set 8 : osoyoos\n",
      "Processing Record 3 of Set 8 : key west\n",
      "Processing Record 4 of Set 8 : catamarca\n",
      "Processing Record 5 of Set 8 : council bluffs\n",
      "Processing Record 6 of Set 8 : tecpan\n",
      "Processing Record 7 of Set 8 : kaniama\n",
      "Processing Record 8 of Set 8 : san pedro\n",
      "Processing Record 9 of Set 8 : sydney\n",
      "Processing Record 10 of Set 8 : tateyama\n",
      "Processing Record 11 of Set 8 : yugorsk\n",
      "City not found. Skipping...\n",
      "Processing Record 12 of Set 8 : mayo\n",
      "Processing Record 13 of Set 8 : sioux lookout\n",
      "Processing Record 14 of Set 8 : waingapu\n",
      "Processing Record 15 of Set 8 : verkhnyaya inta\n",
      "Processing Record 16 of Set 8 : caravelas\n",
      "Processing Record 17 of Set 8 : mareeba\n",
      "Processing Record 18 of Set 8 : faya\n",
      "Processing Record 19 of Set 8 : nishihara\n",
      "Processing Record 20 of Set 8 : tautira\n",
      "Processing Record 21 of Set 8 : nenjiang\n",
      "City not found. Skipping...\n"
     ]
    },
    {
     "name": "stdout",
     "output_type": "stream",
     "text": [
      "Processing Record 22 of Set 8 : margate\n",
      "Processing Record 23 of Set 8 : noyabrsk\n",
      "Processing Record 24 of Set 8 : gwembe\n",
      "Processing Record 25 of Set 8 : broken hill\n",
      "Processing Record 26 of Set 8 : aklavik\n",
      "Processing Record 27 of Set 8 : mandiana\n",
      "Processing Record 28 of Set 8 : dingzhou\n",
      "Processing Record 29 of Set 8 : yar-sale\n",
      "Processing Record 30 of Set 8 : smithers\n",
      "Processing Record 31 of Set 8 : laguna\n",
      "Processing Record 32 of Set 8 : airai\n",
      "Processing Record 33 of Set 8 : waipawa\n",
      "Processing Record 34 of Set 8 : rosario\n",
      "Processing Record 35 of Set 8 : san jose\n",
      "Processing Record 36 of Set 8 : aksu\n",
      "Processing Record 37 of Set 8 : elat\n",
      "Processing Record 38 of Set 8 : hibbing\n",
      "Processing Record 39 of Set 8 : rakai\n",
      "Processing Record 40 of Set 8 : kruisfontein\n",
      "City not found. Skipping...\n",
      "Processing Record 41 of Set 8 : jimo\n",
      "Processing Record 42 of Set 8 : ereymentau\n",
      "Processing Record 43 of Set 8 : eureka\n",
      "Processing Record 44 of Set 8 : mansfield\n",
      "Processing Record 45 of Set 8 : burnie\n",
      "Processing Record 46 of Set 8 : isangel\n",
      "Processing Record 47 of Set 8 : butajira\n",
      "City not found. Skipping...\n",
      "Processing Record 48 of Set 8 : yumen\n",
      "Processing Record 49 of Set 8 : bahia blanca\n",
      "Processing Record 50 of Set 8 : skelleftea\n",
      "Processing Record 0 of Set 9 : harboore\n",
      "Processing Record 1 of Set 9 : rio viejo\n",
      "Processing Record 2 of Set 9 : nome\n",
      "Processing Record 3 of Set 9 : mount gambier\n",
      "Processing Record 4 of Set 9 : thyboron\n",
      "Processing Record 5 of Set 9 : tsiroanomandidy\n",
      "Processing Record 6 of Set 9 : aguimes\n",
      "City not found. Skipping...\n",
      "Processing Record 7 of Set 9 : tucuma\n",
      "Processing Record 8 of Set 9 : saryagash\n",
      "Processing Record 9 of Set 9 : tallahassee\n",
      "Processing Record 10 of Set 9 : goba\n",
      "Processing Record 11 of Set 9 : vila do maio\n",
      "Processing Record 12 of Set 9 : bairiki\n",
      "Processing Record 13 of Set 9 : tshikapa\n",
      "Processing Record 14 of Set 9 : rocha\n",
      "Processing Record 15 of Set 9 : krasnoselkup\n",
      "Processing Record 16 of Set 9 : udachnyy\n",
      "Processing Record 17 of Set 9 : saint-pierre\n",
      "Processing Record 18 of Set 9 : moramanga\n",
      "Processing Record 19 of Set 9 : port hawkesbury\n",
      "Processing Record 20 of Set 9 : port hardy\n",
      "Processing Record 21 of Set 9 : gerede\n",
      "Processing Record 22 of Set 9 : devrek\n",
      "City not found. Skipping...\n",
      "Processing Record 23 of Set 9 : chapais\n",
      "Processing Record 24 of Set 9 : santa vitoria do palmar\n",
      "Processing Record 25 of Set 9 : mortka\n",
      "Processing Record 26 of Set 9 : mackay\n",
      "Processing Record 27 of Set 9 : petropavlovsk-kamchatskiy\n",
      "Processing Record 28 of Set 9 : wajima\n",
      "Processing Record 29 of Set 9 : wanaka\n",
      "Processing Record 30 of Set 9 : mersing\n",
      "Processing Record 31 of Set 9 : talnakh\n",
      "Processing Record 32 of Set 9 : sneek\n",
      "Processing Record 33 of Set 9 : pemba\n",
      "Processing Record 34 of Set 9 : ruangwa\n",
      "Processing Record 35 of Set 9 : rocky mountain house\n",
      "Processing Record 36 of Set 9 : new ulm\n",
      "Processing Record 37 of Set 9 : dzilam gonzalez\n",
      "Processing Record 38 of Set 9 : kodinsk\n",
      "Processing Record 39 of Set 9 : sabang\n",
      "Processing Record 40 of Set 9 : port shepstone\n",
      "Processing Record 41 of Set 9 : pisco\n",
      "Processing Record 42 of Set 9 : belaya gora\n",
      "Processing Record 43 of Set 9 : sarangani\n",
      "Processing Record 44 of Set 9 : alice springs\n",
      "Processing Record 45 of Set 9 : bira\n",
      "Processing Record 46 of Set 9 : waiouru\n",
      "Processing Record 47 of Set 9 : saint-georges\n",
      "Processing Record 48 of Set 9 : orbetello\n",
      "Processing Record 49 of Set 9 : namibe\n",
      "Processing Record 50 of Set 9 : swiecie\n",
      "Processing Record 0 of Set 10 : ozinki\n",
      "Processing Record 1 of Set 10 : ixtapa\n",
      "Processing Record 2 of Set 10 : jalu\n",
      "Processing Record 3 of Set 10 : dunajska streda\n",
      "Processing Record 4 of Set 10 : aktau\n",
      "City not found. Skipping...\n",
      "Processing Record 5 of Set 10 : balakhta\n",
      "Processing Record 6 of Set 10 : khorixas\n",
      "Processing Record 7 of Set 10 : tucurui\n",
      "Processing Record 8 of Set 10 : kaele\n",
      "Processing Record 9 of Set 10 : zherdevka\n",
      "Processing Record 10 of Set 10 : thompson\n",
      "Processing Record 11 of Set 10 : lazaro cardenas\n",
      "Processing Record 12 of Set 10 : payo\n",
      "Processing Record 13 of Set 10 : verkhnyaya toyma\n",
      "Processing Record 14 of Set 10 : limulunga\n",
      "Processing Record 15 of Set 10 : mangrol\n",
      "Processing Record 16 of Set 10 : pop\n",
      "Processing Record 17 of Set 10 : ambilobe\n",
      "Processing Record 18 of Set 10 : guadalupe y calvo\n",
      "City not found. Skipping...\n",
      "Processing Record 19 of Set 10 : pahrump\n",
      "Processing Record 20 of Set 10 : pangnirtung\n",
      "Processing Record 21 of Set 10 : nhulunbuy\n",
      "Processing Record 22 of Set 10 : lumphat\n",
      "Processing Record 23 of Set 10 : bambanglipuro\n",
      "City not found. Skipping...\n",
      "Processing Record 24 of Set 10 : camargo\n",
      "Processing Record 25 of Set 10 : barcelos\n",
      "Processing Record 26 of Set 10 : mujiayingzi\n",
      "Processing Record 27 of Set 10 : bathsheba\n",
      "Processing Record 28 of Set 10 : aldan\n",
      "Processing Record 29 of Set 10 : beyneu\n",
      "Processing Record 30 of Set 10 : manzil salim\n",
      "Processing Record 31 of Set 10 : yuncheng\n",
      "Processing Record 32 of Set 10 : almaznyy\n",
      "Processing Record 33 of Set 10 : yura\n",
      "Processing Record 34 of Set 10 : deputatskiy\n",
      "Processing Record 35 of Set 10 : pinega\n",
      "Processing Record 36 of Set 10 : zagreb\n",
      "City not found. Skipping...\n",
      "Processing Record 37 of Set 10 : kolyvan\n",
      "Processing Record 38 of Set 10 : bollnas\n",
      "City not found. Skipping...\n",
      "Processing Record 39 of Set 10 : bosaso\n",
      "City not found. Skipping...\n",
      "Processing Record 40 of Set 10 : laredo\n",
      "Processing Record 41 of Set 10 : naze\n",
      "Processing Record 42 of Set 10 : redding\n",
      "Processing Record 43 of Set 10 : gasa\n",
      "Processing Record 44 of Set 10 : sorong\n",
      "Processing Record 45 of Set 10 : vostok\n",
      "Processing Record 46 of Set 10 : languyan\n",
      "Processing Record 47 of Set 10 : ulaanbaatar\n",
      "City not found. Skipping...\n",
      "Processing Record 48 of Set 10 : sangmelima\n",
      "Processing Record 49 of Set 10 : kurilsk\n",
      "Processing Record 50 of Set 10 : itaituba\n",
      "Processing Record 0 of Set 11 : kudahuvadhoo\n",
      "City not found. Skipping...\n",
      "Processing Record 1 of Set 11 : malinovskiy\n",
      "Processing Record 2 of Set 11 : miri\n",
      "City not found. Skipping...\n",
      "Processing Record 3 of Set 11 : korla\n",
      "City not found. Skipping...\n",
      "Processing Record 4 of Set 11 : chaumont\n",
      "Processing Record 5 of Set 11 : zheleznodorozhnyy\n",
      "Processing Record 6 of Set 11 : rovaniemi\n",
      "Processing Record 7 of Set 11 : baran\n",
      "Processing Record 8 of Set 11 : tananger\n",
      "Processing Record 9 of Set 11 : haines junction\n",
      "Processing Record 10 of Set 11 : lata\n",
      "Processing Record 11 of Set 11 : aksarka\n",
      "Processing Record 12 of Set 11 : akureyri\n",
      "Processing Record 13 of Set 11 : muros\n",
      "Processing Record 14 of Set 11 : ponta delgada\n",
      "Processing Record 15 of Set 11 : manono\n",
      "Processing Record 16 of Set 11 : rodrigues alves\n",
      "Processing Record 17 of Set 11 : yakima\n",
      "Processing Record 18 of Set 11 : kiunga\n",
      "Processing Record 19 of Set 11 : camrose\n",
      "Processing Record 20 of Set 11 : bardiyah\n",
      "Processing Record 21 of Set 11 : kloulklubed\n",
      "Processing Record 22 of Set 11 : cap malheureux\n",
      "Processing Record 23 of Set 11 : atar\n",
      "Processing Record 24 of Set 11 : nioro\n",
      "Processing Record 25 of Set 11 : altay\n",
      "Processing Record 26 of Set 11 : carutapera\n",
      "Processing Record 27 of Set 11 : loveland\n",
      "Processing Record 28 of Set 11 : najran\n",
      "Processing Record 29 of Set 11 : campana\n",
      "Processing Record 30 of Set 11 : tlacotepec\n",
      "Processing Record 31 of Set 11 : cantagallo\n",
      "Processing Record 32 of Set 11 : rio grande\n",
      "Processing Record 33 of Set 11 : locri\n",
      "Processing Record 34 of Set 11 : palenque\n",
      "Processing Record 35 of Set 11 : hirara\n",
      "Processing Record 36 of Set 11 : siguiri\n",
      "Processing Record 37 of Set 11 : truth or consequences\n",
      "Processing Record 38 of Set 11 : valentin gomez farias\n",
      "Processing Record 39 of Set 11 : nampula\n",
      "Processing Record 40 of Set 11 : adre\n",
      "Processing Record 41 of Set 11 : luena\n",
      "Processing Record 42 of Set 11 : mae hong son\n",
      "Processing Record 43 of Set 11 : jumla\n",
      "City not found. Skipping...\n",
      "Processing Record 44 of Set 11 : rincon\n",
      "City not found. Skipping...\n",
      "Processing Record 45 of Set 11 : makakilo city\n",
      "City not found. Skipping...\n",
      "Processing Record 46 of Set 11 : richards bay\n",
      "City not found. Skipping...\n",
      "Processing Record 47 of Set 11 : zyryanka\n",
      "Processing Record 48 of Set 11 : yinchuan\n",
      "Processing Record 49 of Set 11 : heihe\n",
      "Processing Record 50 of Set 11 : bethel\n",
      "Processing Record 0 of Set 12 : qaqortoq\n",
      "Processing Record 1 of Set 12 : sholapur\n",
      "Processing Record 2 of Set 12 : saint-louis\n"
     ]
    },
    {
     "name": "stdout",
     "output_type": "stream",
     "text": [
      "Processing Record 3 of Set 12 : portobelo\n",
      "Processing Record 4 of Set 12 : alyangula\n",
      "Processing Record 5 of Set 12 : cabra\n",
      "City not found. Skipping...\n",
      "City not found. Skipping...\n",
      "Processing Record 6 of Set 12 : roseburg\n",
      "Processing Record 7 of Set 12 : mitsamiouli\n",
      "Processing Record 8 of Set 12 : anakapalle\n",
      "Processing Record 9 of Set 12 : arzgir\n",
      "Processing Record 10 of Set 12 : kokkola\n",
      "Processing Record 11 of Set 12 : kysyl-syr\n",
      "Processing Record 12 of Set 12 : fiumicino\n",
      "-------------------------------\n",
      "Data Retrieval Complete\n",
      "-------------------------------\n"
     ]
    }
   ],
   "source": [
    "print(\"Beginning Data Retrieval \")\n",
    "print(\"-------------------------------\")\n",
    "\n",
    "base_url = \"http://api.openweathermap.org/data/2.5/weather?\"\n",
    "units = \"imperial\"\n",
    "query_url = f\"{base_url}appid={weather_api_key}&units={units}&q=\"\n",
    "\n",
    "#For loop matching city names with city_list using enumerate method\n",
    "for index, city in enumerate(cities, start = 1):\n",
    "    try:\n",
    "        response = requests.get(query_url + city).json()\n",
    "        city_list.append(response[\"name\"])\n",
    "        cloud_list.append(response[\"clouds\"][\"all\"])\n",
    "        country_list.append(response[\"sys\"][\"country\"])\n",
    "        date_list.append(response[\"dt\"])\n",
    "        humidity_list.append(response[\"main\"][\"humidity\"])\n",
    "        lats_list.append(response[\"coord\"][\"lat\"])\n",
    "        lngs_list.append(response[\"coord\"][\"lon\"])\n",
    "        temp_max_list.append(response['main']['temp_max'])\n",
    "        wind_speed_list.append(response[\"wind\"][\"speed\"])\n",
    "        \n",
    "        if index_counter > 49:\n",
    "            index_counter = 0\n",
    "            set_counter = set_counter + 1\n",
    "        \n",
    "        else:\n",
    "            index_counter = index_counter + 1\n",
    "        \n",
    "        print(f\"Processing Record {index_counter} of Set {set_counter} : {city}\")\n",
    "        \n",
    "    except(KeyError, IndexError):\n",
    "        print(\"City not found. Skipping...\")\n",
    "        \n",
    "print(\"-------------------------------\")\n",
    "print(\"Data Retrieval Complete\")\n",
    "print(\"-------------------------------\")\n",
    "        "
   ]
  },
  {
   "cell_type": "markdown",
   "metadata": {},
   "source": [
    "### Convert Raw Data to DataFrame\n",
    "* Export the city data into a .csv.\n",
    "* Display the DataFrame"
   ]
  },
  {
   "cell_type": "code",
   "execution_count": 40,
   "metadata": {},
   "outputs": [],
   "source": [
    "#Create a dataframe using information from data retrieval\n",
    "weather_data = pd.DataFrame({\n",
    "    \"City\" : city_list,\n",
    "    \"Lat\" : lats_list,\n",
    "    \"Lng\" : lngs_list,\n",
    "    \"Max Temp\" : temp_max_list,\n",
    "    \"Humidity\" : humidity_list,\n",
    "    \"Clouds\" : cloud_list,\n",
    "    \"Wind Speed\" : wind_speed_list,\n",
    "    \"Country\" : country_list,\n",
    "    \"Date\" : date_list    \n",
    "})"
   ]
  },
  {
   "cell_type": "code",
   "execution_count": 41,
   "metadata": {},
   "outputs": [
    {
     "data": {
      "text/plain": [
       "City          573\n",
       "Lat           573\n",
       "Lng           573\n",
       "Max Temp      573\n",
       "Humidity      573\n",
       "Clouds        573\n",
       "Wind Speed    573\n",
       "Country       573\n",
       "Date          573\n",
       "dtype: int64"
      ]
     },
     "execution_count": 41,
     "metadata": {},
     "output_type": "execute_result"
    }
   ],
   "source": [
    "#Count weather data\n",
    "weather_data.count()"
   ]
  },
  {
   "cell_type": "markdown",
   "metadata": {},
   "source": [
    "## Inspect the data and remove the cities where the humidity > 100%.\n",
    "----\n",
    "Skip this step if there are no cities that have humidity > 100%. "
   ]
  },
  {
   "cell_type": "code",
   "execution_count": null,
   "metadata": {},
   "outputs": [],
   "source": []
  },
  {
   "cell_type": "code",
   "execution_count": 13,
   "metadata": {},
   "outputs": [],
   "source": [
    "#  Get the indices of cities that have humidity over 100%.\n"
   ]
  },
  {
   "cell_type": "code",
   "execution_count": 42,
   "metadata": {},
   "outputs": [],
   "source": [
    "# Make a new DataFrame equal to the city data to drop all humidity outliers by index.\n",
    "# Passing \"inplace=False\" will make a copy of the city_data DataFrame, which we call \"clean_city_data\".\n",
    "weather_data.to_csv(\"../output_data/cities.csv\", index=False)"
   ]
  },
  {
   "cell_type": "code",
   "execution_count": null,
   "metadata": {},
   "outputs": [],
   "source": [
    "\n"
   ]
  },
  {
   "cell_type": "markdown",
   "metadata": {},
   "source": [
    "## Plotting the Data\n",
    "* Use proper labeling of the plots using plot titles (including date of analysis) and axes labels.\n",
    "* Save the plotted figures as .pngs."
   ]
  },
  {
   "cell_type": "markdown",
   "metadata": {},
   "source": [
    "## Latitude vs. Temperature Plot"
   ]
  },
  {
   "cell_type": "code",
   "execution_count": 43,
   "metadata": {
    "scrolled": true
   },
   "outputs": [
    {
     "data": {
      "image/png": "[encoded data removed]",
      "text/plain": [
       "<Figure size 432x288 with 1 Axes>"
      ]
     },
     "metadata": {
      "needs_background": "light"
     },
     "output_type": "display_data"
    }
   ],
   "source": [
    "plt.scatter(weather_data[\"Lat\"], weather_data[\"Max Temp\"], color = \"red\", edgecolor = \"black\")\n",
    "\n",
    "plt.title(\"City Latitude vs. Max Temperature (06/18/20)\")\n",
    "plt.xlabel(\"Latitude\")\n",
    "plt.ylabel(\"Max Temperature (F)\")\n",
    "plt.grid(True)\n",
    "plt.savefig(\"../Images/City Latitude vs Max Temperature.png\")"
   ]
  },
  {
   "cell_type": "markdown",
   "metadata": {},
   "source": [
    "## Latitude vs. Humidity Plot"
   ]
  },
  {
   "cell_type": "code",
   "execution_count": 44,
   "metadata": {},
   "outputs": [
    {
     "data": {
      "image/png": "[encoded data removed]",
      "text/plain": [
       "<Figure size 432x288 with 1 Axes>"
      ]
     },
     "metadata": {
      "needs_background": "light"
     },
     "output_type": "display_data"
    }
   ],
   "source": [
    "plt.scatter(weather_data[\"Lat\"], weather_data[\"Humidity\"], color = \"red\", edgecolor = \"black\")\n",
    "\n",
    "plt.title(\"City Latitude vs. Humidity (06/18/20)\")\n",
    "plt.xlabel(\"Latitude\")\n",
    "plt.ylabel(\"Humidity (%))\")\n",
    "plt.grid(True)\n",
    "plt.savefig(\"../Images/City Latitude vs Humidity.png\")"
   ]
  },
  {
   "cell_type": "markdown",
   "metadata": {},
   "source": [
    "## Latitude vs. Cloudiness Plot"
   ]
  },
  {
   "cell_type": "code",
   "execution_count": 45,
   "metadata": {},
   "outputs": [
    {
     "data": {
      "image/png": "[encoded data removed]",
      "text/plain": [
       "<Figure size 432x288 with 1 Axes>"
      ]
     },
     "metadata": {
      "needs_background": "light"
     },
     "output_type": "display_data"
    }
   ],
   "source": [
    "plt.scatter(weather_data[\"Lat\"], weather_data[\"Clouds\"], color = \"red\", edgecolor = \"black\")\n",
    "\n",
    "plt.title(\"City Latitude vs. Cloudiness (06/18/20)\")\n",
    "plt.xlabel(\"Latitude\")\n",
    "plt.ylabel(\"Cloudiness (%))\")\n",
    "plt.grid(True)\n",
    "plt.savefig(\"../Images/City Latitude vs Cloudiness.png\")"
   ]
  },
  {
   "cell_type": "markdown",
   "metadata": {},
   "source": [
    "## Latitude vs. Wind Speed Plot"
   ]
  },
  {
   "cell_type": "code",
   "execution_count": 46,
   "metadata": {},
   "outputs": [
    {
     "data": {
      "image/png": "[encoded data removed]",
      "text/plain": [
       "<Figure size 432x288 with 1 Axes>"
      ]
     },
     "metadata": {
      "needs_background": "light"
     },
     "output_type": "display_data"
    }
   ],
   "source": [
    "#Latitude vs. Wind Speed Plot scatter plot\n",
    "plt.scatter(weather_data[\"Lat\"], weather_data[\"Wind Speed\"], color = \"red\", edgecolor = \"black\")\n",
    "\n",
    "plt.title(\"City Latitude vs. Wind Speed (06/18/20)\")\n",
    "plt.xlabel(\"Latitude\")\n",
    "plt.ylabel(\"Wind Speed (%))\")\n",
    "plt.grid(True)\n",
    "plt.savefig(\"../Images/City Latitude vs Wind Speed.png\")"
   ]
  },
  {
   "cell_type": "markdown",
   "metadata": {},
   "source": [
    "## Linear Regression"
   ]
  },
  {
   "cell_type": "code",
   "execution_count": null,
   "metadata": {},
   "outputs": [],
   "source": []
  },
  {
   "cell_type": "markdown",
   "metadata": {},
   "source": [
    "####  Northern Hemisphere - Max Temp vs. Latitude Linear Regression"
   ]
  },
  {
   "cell_type": "code",
   "execution_count": 58,
   "metadata": {},
   "outputs": [
    {
     "data": {
      "text/html": [
       "<div>\n",
       "<style scoped>\n",
       "    .dataframe tbody tr th:only-of-type {\n",
       "        vertical-align: middle;\n",
       "    }\n",
       "\n",
       "    .dataframe tbody tr th {\n",
       "        vertical-align: top;\n",
       "    }\n",
       "\n",
       "    .dataframe thead th {\n",
       "        text-align: right;\n",
       "    }\n",
       "</style>\n",
       "<table border=\"1\" class=\"dataframe\">\n",
       "  <thead>\n",
       "    <tr style=\"text-align: right;\">\n",
       "      <th></th>\n",
       "      <th>City</th>\n",
       "      <th>Lat</th>\n",
       "      <th>Lng</th>\n",
       "      <th>Max Temp</th>\n",
       "      <th>Humidity</th>\n",
       "      <th>Clouds</th>\n",
       "      <th>Wind Speed</th>\n",
       "      <th>Country</th>\n",
       "      <th>Date</th>\n",
       "    </tr>\n",
       "  </thead>\n",
       "  <tbody>\n",
       "    <tr>\n",
       "      <th>0</th>\n",
       "      <td>Mar del Plata</td>\n",
       "      <td>-38.0023</td>\n",
       "      <td>-57.5575</td>\n",
       "      <td>64.99</td>\n",
       "      <td>82</td>\n",
       "      <td>0</td>\n",
       "      <td>12.66</td>\n",
       "      <td>AR</td>\n",
       "      <td>1619962274</td>\n",
       "    </tr>\n",
       "    <tr>\n",
       "      <th>3</th>\n",
       "      <td>Chilca</td>\n",
       "      <td>-12.5211</td>\n",
       "      <td>-76.7372</td>\n",
       "      <td>66.99</td>\n",
       "      <td>94</td>\n",
       "      <td>20</td>\n",
       "      <td>2.30</td>\n",
       "      <td>PE</td>\n",
       "      <td>1619962275</td>\n",
       "    </tr>\n",
       "    <tr>\n",
       "      <th>4</th>\n",
       "      <td>Saquena</td>\n",
       "      <td>-4.6667</td>\n",
       "      <td>-73.5167</td>\n",
       "      <td>76.46</td>\n",
       "      <td>87</td>\n",
       "      <td>85</td>\n",
       "      <td>1.79</td>\n",
       "      <td>PE</td>\n",
       "      <td>1619962276</td>\n",
       "    </tr>\n",
       "    <tr>\n",
       "      <th>5</th>\n",
       "      <td>Hermanus</td>\n",
       "      <td>-34.4187</td>\n",
       "      <td>19.2345</td>\n",
       "      <td>84.99</td>\n",
       "      <td>32</td>\n",
       "      <td>0</td>\n",
       "      <td>3.00</td>\n",
       "      <td>ZA</td>\n",
       "      <td>1619962276</td>\n",
       "    </tr>\n",
       "    <tr>\n",
       "      <th>7</th>\n",
       "      <td>Rikitea</td>\n",
       "      <td>-23.1203</td>\n",
       "      <td>-134.9692</td>\n",
       "      <td>76.84</td>\n",
       "      <td>72</td>\n",
       "      <td>95</td>\n",
       "      <td>14.27</td>\n",
       "      <td>PF</td>\n",
       "      <td>1619962277</td>\n",
       "    </tr>\n",
       "    <tr>\n",
       "      <th>...</th>\n",
       "      <td>...</td>\n",
       "      <td>...</td>\n",
       "      <td>...</td>\n",
       "      <td>...</td>\n",
       "      <td>...</td>\n",
       "      <td>...</td>\n",
       "      <td>...</td>\n",
       "      <td>...</td>\n",
       "      <td>...</td>\n",
       "    </tr>\n",
       "    <tr>\n",
       "      <th>548</th>\n",
       "      <td>Nampula</td>\n",
       "      <td>-15.1165</td>\n",
       "      <td>39.2666</td>\n",
       "      <td>80.01</td>\n",
       "      <td>73</td>\n",
       "      <td>75</td>\n",
       "      <td>16.11</td>\n",
       "      <td>MZ</td>\n",
       "      <td>1619962441</td>\n",
       "    </tr>\n",
       "    <tr>\n",
       "      <th>550</th>\n",
       "      <td>Luena</td>\n",
       "      <td>-11.7833</td>\n",
       "      <td>19.9167</td>\n",
       "      <td>71.60</td>\n",
       "      <td>83</td>\n",
       "      <td>75</td>\n",
       "      <td>4.61</td>\n",
       "      <td>AO</td>\n",
       "      <td>1619962226</td>\n",
       "    </tr>\n",
       "    <tr>\n",
       "      <th>555</th>\n",
       "      <td>Richards Bay</td>\n",
       "      <td>-28.7830</td>\n",
       "      <td>32.0377</td>\n",
       "      <td>70.57</td>\n",
       "      <td>68</td>\n",
       "      <td>11</td>\n",
       "      <td>5.03</td>\n",
       "      <td>ZA</td>\n",
       "      <td>1619962443</td>\n",
       "    </tr>\n",
       "    <tr>\n",
       "      <th>564</th>\n",
       "      <td>Alyangula</td>\n",
       "      <td>-13.8483</td>\n",
       "      <td>136.4192</td>\n",
       "      <td>75.20</td>\n",
       "      <td>100</td>\n",
       "      <td>90</td>\n",
       "      <td>13.58</td>\n",
       "      <td>AU</td>\n",
       "      <td>1619962446</td>\n",
       "    </tr>\n",
       "    <tr>\n",
       "      <th>567</th>\n",
       "      <td>Mitsamiouli</td>\n",
       "      <td>-11.3847</td>\n",
       "      <td>43.2844</td>\n",
       "      <td>87.80</td>\n",
       "      <td>74</td>\n",
       "      <td>40</td>\n",
       "      <td>16.11</td>\n",
       "      <td>KM</td>\n",
       "      <td>1619962447</td>\n",
       "    </tr>\n",
       "  </tbody>\n",
       "</table>\n",
       "<p>156 rows × 9 columns</p>\n",
       "</div>"
      ],
      "text/plain": [
       "              City      Lat       Lng  Max Temp  Humidity  Clouds  Wind Speed  \\\n",
       "0    Mar del Plata -38.0023  -57.5575     64.99        82       0       12.66   \n",
       "3           Chilca -12.5211  -76.7372     66.99        94      20        2.30   \n",
       "4          Saquena  -4.6667  -73.5167     76.46        87      85        1.79   \n",
       "5         Hermanus -34.4187   19.2345     84.99        32       0        3.00   \n",
       "7          Rikitea -23.1203 -134.9692     76.84        72      95       14.27   \n",
       "..             ...      ...       ...       ...       ...     ...         ...   \n",
       "548        Nampula -15.1165   39.2666     80.01        73      75       16.11   \n",
       "550          Luena -11.7833   19.9167     71.60        83      75        4.61   \n",
       "555   Richards Bay -28.7830   32.0377     70.57        68      11        5.03   \n",
       "564      Alyangula -13.8483  136.4192     75.20       100      90       13.58   \n",
       "567    Mitsamiouli -11.3847   43.2844     87.80        74      40       16.11   \n",
       "\n",
       "    Country        Date  \n",
       "0        AR  1619962274  \n",
       "3        PE  1619962275  \n",
       "4        PE  1619962276  \n",
       "5        ZA  1619962276  \n",
       "7        PF  1619962277  \n",
       "..      ...         ...  \n",
       "548      MZ  1619962441  \n",
       "550      AO  1619962226  \n",
       "555      ZA  1619962443  \n",
       "564      AU  1619962446  \n",
       "567      KM  1619962447  \n",
       "\n",
       "[156 rows x 9 columns]"
      ]
     },
     "execution_count": 58,
     "metadata": {},
     "output_type": "execute_result"
    }
   ],
   "source": [
    "nothern = weather_data.loc[weather_data[\"Lat\"] >= 0.0]\n",
    "nothern\n",
    "\n",
    "southern = weather_data.loc[weather_data[\"Lat\"] < 0.0]\n",
    "southern\n"
   ]
  },
  {
   "cell_type": "code",
   "execution_count": 59,
   "metadata": {},
   "outputs": [],
   "source": [
    "def plotLinearRegression(xdata,ydata,xlbl,ylbl,lblpos,ifig):\n",
    "    (slope, intercept, rvalue, pvalue, stderr) = linregress(xdata, ydata)\n",
    "    print(f\"The r-squared is: {rvalue}\")\n",
    "    regress_values = xdata * slope + intercept\n",
    "    line_eq = \"y = \" + str(round(slope,2)) + \"x + \" + str(round(intercept,2))\n",
    "\n",
    "    plt.scatter(xdata,ydata)\n",
    "    plt.plot(xdata,regress_values,\"r-\")\n",
    "    plt.annotate(line_eq,lblpos,fontsize=15,color=\"red\")\n",
    "    plt.xlabel(xlbl)\n",
    "    plt.ylabel(ylbl)\n",
    "    plt.savefig(f\"../output_data/fig{ifig}.png\")\n",
    "    plt.show()"
   ]
  },
  {
   "cell_type": "markdown",
   "metadata": {},
   "source": [
    "####  Southern Hemisphere - Max Temp vs. Latitude Linear Regression"
   ]
  },
  {
   "cell_type": "code",
   "execution_count": 60,
   "metadata": {},
   "outputs": [
    {
     "name": "stdout",
     "output_type": "stream",
     "text": [
      "The r-squared is: 0.7202490052721431\n"
     ]
    },
    {
     "data": {
      "image/png": "[encoded data removed]",
      "text/plain": [
       "<Figure size 432x288 with 1 Axes>"
      ]
     },
     "metadata": {
      "needs_background": "light"
     },
     "output_type": "display_data"
    }
   ],
   "source": [
    "\n",
    "# Southern Hemisphere - Max Temp vs. Latitude Linear Regression\n",
    "\n",
    "xlbl = \"Lat\"\n",
    "ylbl = \"Max Temp\"\n",
    "lblpos = (-55,90)\n",
    "plotLinearRegression(southern[xlbl],southern[ylbl],xlbl,ylbl,lblpos,6)"
   ]
  },
  {
   "cell_type": "markdown",
   "metadata": {},
   "source": [
    "####  Northern Hemisphere - Humidity (%) vs. Latitude Linear Regression"
   ]
  },
  {
   "cell_type": "code",
   "execution_count": 61,
   "metadata": {},
   "outputs": [
    {
     "name": "stdout",
     "output_type": "stream",
     "text": [
      "The r-squared is: 0.12293738387075148\n"
     ]
    },
    {
     "data": {
      "image/png": "[encoded data removed]",
      "text/plain": [
       "<Figure size 432x288 with 1 Axes>"
      ]
     },
     "metadata": {
      "needs_background": "light"
     },
     "output_type": "display_data"
    }
   ],
   "source": [
    "xlbl = \"Lat\"\n",
    "ylbl = \"Humidity\"\n",
    "lblpos = (45,10)\n",
    "plotLinearRegression(nothern[xlbl],nothern[ylbl],xlbl,ylbl,lblpos,7)"
   ]
  },
  {
   "cell_type": "markdown",
   "metadata": {},
   "source": [
    "####  Southern Hemisphere - Humidity (%) vs. Latitude Linear Regression"
   ]
  },
  {
   "cell_type": "code",
   "execution_count": 62,
   "metadata": {},
   "outputs": [
    {
     "name": "stdout",
     "output_type": "stream",
     "text": [
      "The r-squared is: 0.14207689301026447\n"
     ]
    },
    {
     "data": {
      "image/png": "[encoded data removed]",
      "text/plain": [
       "<Figure size 432x288 with 1 Axes>"
      ]
     },
     "metadata": {
      "needs_background": "light"
     },
     "output_type": "display_data"
    }
   ],
   "source": [
    "xlbl = \"Lat\"\n",
    "ylbl = \"Humidity\"\n",
    "lblpos = (-55,15)\n",
    "plotLinearRegression(southern[xlbl],southern[ylbl],xlbl,ylbl,lblpos,8)"
   ]
  },
  {
   "cell_type": "markdown",
   "metadata": {},
   "source": [
    "####  Northern Hemisphere - Cloudiness (%) vs. Latitude Linear Regression"
   ]
  },
  {
   "cell_type": "code",
   "execution_count": 63,
   "metadata": {},
   "outputs": [
    {
     "name": "stdout",
     "output_type": "stream",
     "text": [
      "The r-squared is: 0.08265326932713536\n"
     ]
    },
    {
     "data": {
      "image/png": "[encoded data removed]",
      "text/plain": [
       "<Figure size 432x288 with 1 Axes>"
      ]
     },
     "metadata": {
      "needs_background": "light"
     },
     "output_type": "display_data"
    }
   ],
   "source": [
    "xlbl = \"Lat\"\n",
    "ylbl = \"Clouds\"\n",
    "lblpos = (20,40)\n",
    "plotLinearRegression(nothern[xlbl],nothern[ylbl],xlbl,ylbl,lblpos,9)"
   ]
  },
  {
   "cell_type": "markdown",
   "metadata": {},
   "source": [
    "####  Southern Hemisphere - Cloudiness (%) vs. Latitude Linear Regression"
   ]
  },
  {
   "cell_type": "code",
   "execution_count": 64,
   "metadata": {},
   "outputs": [
    {
     "name": "stdout",
     "output_type": "stream",
     "text": [
      "The r-squared is: 0.379138237338635\n"
     ]
    },
    {
     "data": {
      "image/png": "[encoded data removed]",
      "text/plain": [
       "<Figure size 432x288 with 1 Axes>"
      ]
     },
     "metadata": {
      "needs_background": "light"
     },
     "output_type": "display_data"
    }
   ],
   "source": [
    "xlbl = \"Lat\"\n",
    "ylbl = \"Clouds\"\n",
    "lblpos = (-55,50)\n",
    "plotLinearRegression(southern[xlbl],southern[ylbl],xlbl,ylbl,lblpos,10)"
   ]
  },
  {
   "cell_type": "markdown",
   "metadata": {},
   "source": [
    "####  Northern Hemisphere - Wind Speed (mph) vs. Latitude Linear Regression"
   ]
  },
  {
   "cell_type": "code",
   "execution_count": 65,
   "metadata": {},
   "outputs": [
    {
     "name": "stdout",
     "output_type": "stream",
     "text": [
      "The r-squared is: 0.040220251270885646\n"
     ]
    },
    {
     "data": {
      "image/png": "[encoded data removed]",
      "text/plain": [
       "<Figure size 432x288 with 1 Axes>"
      ]
     },
     "metadata": {
      "needs_background": "light"
     },
     "output_type": "display_data"
    }
   ],
   "source": [
    "xlbl = \"Lat\"\n",
    "ylbl = \"Wind Speed\"\n",
    "lblpos = (0,30)\n",
    "plotLinearRegression(nothern[xlbl],nothern[ylbl],xlbl,ylbl,lblpos,11)"
   ]
  },
  {
   "cell_type": "markdown",
   "metadata": {},
   "source": [
    "####  Southern Hemisphere - Wind Speed (mph) vs. Latitude Linear Regression"
   ]
  },
  {
   "cell_type": "code",
   "execution_count": 66,
   "metadata": {},
   "outputs": [
    {
     "name": "stdout",
     "output_type": "stream",
     "text": [
      "The r-squared is: -0.06777296112504687\n"
     ]
    },
    {
     "data": {
      "image/png": "[encoded data removed]",
      "text/plain": [
       "<Figure size 432x288 with 1 Axes>"
      ]
     },
     "metadata": {
      "needs_background": "light"
     },
     "output_type": "display_data"
    }
   ],
   "source": [
    "xlbl = \"Lat\"\n",
    "ylbl = \"Wind Speed\"\n",
    "lblpos = (-25,33)\n",
    "plotLinearRegression(southern[xlbl],southern[ylbl],xlbl,ylbl,lblpos,12)"
   ]
  },
  {
   "cell_type": "code",
   "execution_count": null,
   "metadata": {},
   "outputs": [],
   "source": []
  },
  {
   "cell_type": "code",
   "execution_count": null,
   "metadata": {},
   "outputs": [],
   "source": []
  },
  {
   "cell_type": "code",
   "execution_count": null,
   "metadata": {},
   "outputs": [],
   "source": []
  }
 ],
 "metadata": {
  "anaconda-cloud": {},
  "kernel_info": {
   "name": "python3"
  },
  "kernelspec": {
   "display_name": "Python 3",
   "language": "python",
   "name": "python3"
  },
  "language_info": {
   "codemirror_mode": {
    "name": "ipython",
    "version": 3
   },
   "file_extension": ".py",
   "mimetype": "text/x-python",
   "name": "python",
   "nbconvert_exporter": "python",
   "pygments_lexer": "ipython3",
   "version": "3.8.5"
  },
  "latex_envs": {
   "LaTeX_envs_menu_present": true,
   "autoclose": false,
   "autocomplete": true,
   "bibliofile": "biblio.bib",
   "cite_by": "apalike",
   "current_citInitial": 1,
   "eqLabelWithNumbers": true,
   "eqNumInitial": 1,
   "hotkeys": {
    "equation": "Ctrl-E",
    "itemize": "Ctrl-I"
   },
   "labels_anchors": false,
   "latex_user_defs": false,
   "report_style_numbering": false,
   "user_envs_cfg": false
  },
  "nteract": {
   "version": "0.12.3"
  }
 },
 "nbformat": 4,
 "nbformat_minor": 2
}
