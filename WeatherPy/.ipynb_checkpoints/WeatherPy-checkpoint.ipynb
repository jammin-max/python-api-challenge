{
 "cells": [
  {
   "cell_type": "markdown",
   "metadata": {},
   "source": [
    "# WeatherPy\n",
    "----\n",
    "\n",
    "#### Note\n",
    "* Instructions have been included for each segment. You do not have to follow them exactly, but they are included to help you think through the steps."
   ]
  },
  {
   "cell_type": "code",
   "execution_count": 2,
   "metadata": {
    "scrolled": true
   },
   "outputs": [],
   "source": [
    "# Dependencies and Setup\n",
    "import os\n",
    "import time\n",
    "import random\n",
    "import matplotlib.pyplot as plt\n",
    "import pandas as pd\n",
    "import numpy as np\n",
    "import requests\n",
    "import time\n",
    "from scipy.stats import linregress\n",
    "import json\n",
    "from pprint import pprint\n",
    "\n",
    "\n",
    "# Import API key\n",
    "from api_keys import weather_api_key\n",
    "from api_keys import g_key\n",
    "\n",
    "# Incorporated citipy to determine city based on latitude and longitude\n",
    "from citipy import citipy\n",
    "\n",
    "# Output File (CSV)\n",
    "output_data_file = \"output_data/cities.csv\"\n",
    "\n",
    "# Range of latitudes and longitudes\n",
    "lat_range = (-90, 90)\n",
    "lng_range = (-180, 180)"
   ]
  },
  {
   "cell_type": "markdown",
   "metadata": {},
   "source": [
    "## Generate Cities List"
   ]
  },
  {
   "cell_type": "code",
   "execution_count": 3,
   "metadata": {},
   "outputs": [
    {
     "data": {
      "text/plain": [
       "612"
      ]
     },
     "execution_count": 3,
     "metadata": {},
     "output_type": "execute_result"
    }
   ],
   "source": [
    "lat_lngs = []\n",
    "cities = []\n",
    "\n",
    "# Create a set of random lat and lng combinations\n",
    "lats = np.random.uniform(lat_range[0], lat_range[1], size=1500)\n",
    "lngs = np.random.uniform(lng_range[0], lng_range[1], size=1500)\n",
    "lat_lngs = zip(lats, lngs)\n",
    "\n",
    "# Identify nearest city for each lat, lng combination\n",
    "for lat_lng in lat_lngs:\n",
    "    city = citipy.nearest_city(lat_lng[0], lat_lng[1]).city_name\n",
    "    \n",
    "    # If the city is unique, then add it to a our cities list\n",
    "    if city not in cities:\n",
    "        cities.append(city)\n",
    "\n",
    "# Print the city count to confirm sufficient count\n",
    "len(cities)\n",
    "\n"
   ]
  },
  {
   "cell_type": "code",
   "execution_count": 4,
   "metadata": {},
   "outputs": [],
   "source": [
    "city_list = []\n",
    "cloud_list = []\n",
    "country_list = []\n",
    "date_list = []\n",
    "humidity_list = []\n",
    "lats_list = []\n",
    "lngs_list = []\n",
    "temp_max_list = []\n",
    "wind_speed_list = []\n",
    "index_counter = 0\n",
    "set_counter = 1"
   ]
  },
  {
   "cell_type": "markdown",
   "metadata": {},
   "source": [
    "### Perform API Calls\n",
    "* Perform a weather check on each city using a series of successive API calls.\n",
    "* Include a print log of each city as it'sbeing processed (with the city number and city name).\n"
   ]
  },
  {
   "cell_type": "code",
   "execution_count": 5,
   "metadata": {
    "scrolled": true
   },
   "outputs": [
    {
     "name": "stdout",
     "output_type": "stream",
     "text": [
      "Beginning Data Retrieval \n",
      "-------------------------------\n",
      "Processing Record 1 of Set 1 : ponta do sol\n",
      "Processing Record 2 of Set 1 : rikitea\n",
      "Processing Record 3 of Set 1 : qaanaaq\n",
      "Processing Record 4 of Set 1 : san cristobal\n",
      "Processing Record 5 of Set 1 : roma\n",
      "Processing Record 6 of Set 1 : cherskiy\n",
      "Processing Record 7 of Set 1 : kapaa\n",
      "Processing Record 8 of Set 1 : hermanus\n",
      "Processing Record 9 of Set 1 : planaltina\n",
      "Processing Record 10 of Set 1 : lompoc\n",
      "Processing Record 11 of Set 1 : tuktoyaktuk\n",
      "Processing Record 12 of Set 1 : atuona\n",
      "Processing Record 13 of Set 1 : ribeira grande\n",
      "Processing Record 14 of Set 1 : maykor\n",
      "City not found. Skipping...\n",
      "Processing Record 15 of Set 1 : katsuura\n",
      "Processing Record 16 of Set 1 : marawi\n",
      "Processing Record 17 of Set 1 : carnarvon\n",
      "Processing Record 18 of Set 1 : albany\n",
      "Processing Record 19 of Set 1 : the valley\n",
      "Processing Record 20 of Set 1 : nueva guinea\n",
      "Processing Record 21 of Set 1 : busselton\n",
      "Processing Record 22 of Set 1 : port alfred\n",
      "Processing Record 23 of Set 1 : baie-comeau\n",
      "Processing Record 24 of Set 1 : jamestown\n",
      "Processing Record 25 of Set 1 : ushuaia\n",
      "Processing Record 26 of Set 1 : butaritari\n",
      "Processing Record 27 of Set 1 : nantucket\n",
      "Processing Record 28 of Set 1 : pacaembu\n",
      "City not found. Skipping...\n",
      "Processing Record 29 of Set 1 : mgandu\n",
      "Processing Record 30 of Set 1 : laguna\n",
      "City not found. Skipping...\n",
      "Processing Record 31 of Set 1 : torbay\n",
      "Processing Record 32 of Set 1 : mataura\n",
      "Processing Record 33 of Set 1 : punta arenas\n",
      "City not found. Skipping...\n",
      "Processing Record 34 of Set 1 : mahebourg\n",
      "Processing Record 35 of Set 1 : port elizabeth\n",
      "Processing Record 36 of Set 1 : pisco\n",
      "Processing Record 37 of Set 1 : airai\n",
      "Processing Record 38 of Set 1 : tepoztlan\n",
      "Processing Record 39 of Set 1 : north bend\n",
      "Processing Record 40 of Set 1 : yellowknife\n",
      "Processing Record 41 of Set 1 : velyka lepetykha\n",
      "Processing Record 42 of Set 1 : saskylakh\n",
      "Processing Record 43 of Set 1 : provideniya\n",
      "Processing Record 44 of Set 1 : hobart\n",
      "Processing Record 45 of Set 1 : puerto ayora\n",
      "Processing Record 46 of Set 1 : veraval\n",
      "Processing Record 47 of Set 1 : vallenar\n",
      "Processing Record 48 of Set 1 : sitka\n",
      "Processing Record 49 of Set 1 : sinnamary\n",
      "Processing Record 50 of Set 1 : onguday\n",
      "Processing Record 0 of Set 2 : mar del plata\n",
      "Processing Record 1 of Set 2 : saint george\n",
      "Processing Record 2 of Set 2 : saldanha\n",
      "Processing Record 3 of Set 2 : bredasdorp\n",
      "Processing Record 4 of Set 2 : tiksi\n",
      "Processing Record 5 of Set 2 : cabedelo\n",
      "Processing Record 6 of Set 2 : new norfolk\n",
      "Processing Record 7 of Set 2 : yamada\n",
      "Processing Record 8 of Set 2 : upernavik\n",
      "City not found. Skipping...\n",
      "Processing Record 9 of Set 2 : erice\n",
      "Processing Record 10 of Set 2 : geraldton\n",
      "Processing Record 11 of Set 2 : san quintin\n",
      "Processing Record 12 of Set 2 : tasiilaq\n",
      "Processing Record 13 of Set 2 : gravdal\n",
      "Processing Record 14 of Set 2 : cape town\n",
      "Processing Record 15 of Set 2 : arraial do cabo\n",
      "City not found. Skipping...\n",
      "City not found. Skipping...\n",
      "Processing Record 16 of Set 2 : hilo\n",
      "Processing Record 17 of Set 2 : nuuk\n",
      "Processing Record 18 of Set 2 : oum hadjer\n",
      "Processing Record 19 of Set 2 : bilma\n",
      "Processing Record 20 of Set 2 : progreso\n",
      "Processing Record 21 of Set 2 : san carlos de bariloche\n",
      "Processing Record 22 of Set 2 : luderitz\n",
      "Processing Record 23 of Set 2 : saint-philippe\n",
      "Processing Record 24 of Set 2 : ambilobe\n",
      "Processing Record 25 of Set 2 : kodiak\n",
      "Processing Record 26 of Set 2 : talnakh\n",
      "Processing Record 27 of Set 2 : linares\n",
      "Processing Record 28 of Set 2 : constitucion\n",
      "Processing Record 29 of Set 2 : husavik\n",
      "Processing Record 30 of Set 2 : nikolskoye\n",
      "Processing Record 31 of Set 2 : pilar\n",
      "Processing Record 32 of Set 2 : doka\n",
      "Processing Record 33 of Set 2 : iquitos\n",
      "City not found. Skipping...\n",
      "City not found. Skipping...\n",
      "Processing Record 34 of Set 2 : praya\n",
      "Processing Record 35 of Set 2 : mayskiy\n",
      "Processing Record 36 of Set 2 : kamaishi\n",
      "Processing Record 37 of Set 2 : sambava\n",
      "Processing Record 38 of Set 2 : ouro fino\n",
      "Processing Record 39 of Set 2 : ucluelet\n",
      "Processing Record 40 of Set 2 : natal\n",
      "Processing Record 41 of Set 2 : tambo\n",
      "Processing Record 42 of Set 2 : shingu\n",
      "Processing Record 43 of Set 2 : yarada\n",
      "Processing Record 44 of Set 2 : cabo san lucas\n",
      "Processing Record 45 of Set 2 : faanui\n",
      "Processing Record 46 of Set 2 : axim\n",
      "Processing Record 47 of Set 2 : codrington\n",
      "Processing Record 48 of Set 2 : pangnirtung\n",
      "Processing Record 49 of Set 2 : omboue\n",
      "Processing Record 50 of Set 2 : klaksvik\n",
      "Processing Record 0 of Set 3 : wilkie\n",
      "Processing Record 1 of Set 3 : luganville\n",
      "Processing Record 2 of Set 3 : hamilton\n",
      "Processing Record 3 of Set 3 : bojnurd\n",
      "Processing Record 4 of Set 3 : banjar\n",
      "Processing Record 5 of Set 3 : castro\n",
      "Processing Record 6 of Set 3 : lata\n",
      "Processing Record 7 of Set 3 : georgetown\n",
      "Processing Record 8 of Set 3 : whitehorse\n",
      "Processing Record 9 of Set 3 : san onofre\n",
      "Processing Record 10 of Set 3 : vaini\n",
      "Processing Record 11 of Set 3 : stony plain\n",
      "Processing Record 12 of Set 3 : nome\n",
      "Processing Record 13 of Set 3 : severo-yeniseyskiy\n",
      "Processing Record 14 of Set 3 : siuna\n",
      "Processing Record 15 of Set 3 : coruripe\n",
      "Processing Record 16 of Set 3 : lavrentiya\n",
      "Processing Record 17 of Set 3 : paamiut\n",
      "Processing Record 18 of Set 3 : ipora\n",
      "Processing Record 19 of Set 3 : souillac\n",
      "Processing Record 20 of Set 3 : nanfeng\n",
      "Processing Record 21 of Set 3 : thinadhoo\n",
      "Processing Record 22 of Set 3 : port hardy\n",
      "Processing Record 23 of Set 3 : lensk\n",
      "Processing Record 24 of Set 3 : mezen\n",
      "Processing Record 25 of Set 3 : barrow\n",
      "Processing Record 26 of Set 3 : bluff\n",
      "Processing Record 27 of Set 3 : daru\n",
      "Processing Record 28 of Set 3 : paka\n",
      "Processing Record 29 of Set 3 : douglas\n",
      "Processing Record 30 of Set 3 : bathsheba\n",
      "Processing Record 31 of Set 3 : ribeira brava\n",
      "Processing Record 32 of Set 3 : bonavista\n",
      "Processing Record 33 of Set 3 : auki\n",
      "Processing Record 34 of Set 3 : wanaka\n",
      "Processing Record 35 of Set 3 : nyimba\n",
      "Processing Record 36 of Set 3 : kabwe\n",
      "Processing Record 37 of Set 3 : cayenne\n",
      "Processing Record 38 of Set 3 : lardos\n",
      "Processing Record 39 of Set 3 : abbeville\n",
      "Processing Record 40 of Set 3 : victoria\n",
      "City not found. Skipping...\n",
      "Processing Record 41 of Set 3 : sangar\n",
      "Processing Record 42 of Set 3 : oranjemund\n",
      "Processing Record 43 of Set 3 : grand gaube\n",
      "Processing Record 44 of Set 3 : koumac\n",
      "Processing Record 45 of Set 3 : la macarena\n",
      "Processing Record 46 of Set 3 : vila franca do campo\n",
      "Processing Record 47 of Set 3 : dunedin\n",
      "Processing Record 48 of Set 3 : birao\n",
      "Processing Record 49 of Set 3 : khatanga\n",
      "Processing Record 50 of Set 3 : hithadhoo\n",
      "Processing Record 0 of Set 4 : san andres\n",
      "Processing Record 1 of Set 4 : fort nelson\n",
      "Processing Record 2 of Set 4 : chokurdakh\n",
      "Processing Record 3 of Set 4 : bambous virieux\n",
      "Processing Record 4 of Set 4 : meulaboh\n",
      "City not found. Skipping...\n",
      "City not found. Skipping...\n",
      "Processing Record 5 of Set 4 : jackson\n",
      "Processing Record 6 of Set 4 : lasa\n",
      "City not found. Skipping...\n",
      "Processing Record 7 of Set 4 : manhush\n",
      "Processing Record 8 of Set 4 : pevek\n",
      "Processing Record 9 of Set 4 : cacoal\n",
      "Processing Record 10 of Set 4 : kieta\n",
      "Processing Record 11 of Set 4 : severo-kurilsk\n",
      "Processing Record 12 of Set 4 : sao joao da barra\n",
      "Processing Record 13 of Set 4 : kaoma\n",
      "Processing Record 14 of Set 4 : bayji\n",
      "City not found. Skipping...\n",
      "Processing Record 15 of Set 4 : coihaique\n",
      "City not found. Skipping...\n",
      "Processing Record 16 of Set 4 : leningradskiy\n",
      "Processing Record 17 of Set 4 : avarua\n",
      "Processing Record 18 of Set 4 : shugurovo\n",
      "Processing Record 19 of Set 4 : hay river\n",
      "Processing Record 20 of Set 4 : lakes entrance\n",
      "Processing Record 21 of Set 4 : kruisfontein\n",
      "Processing Record 22 of Set 4 : zalesovo\n",
      "Processing Record 23 of Set 4 : gramsh\n",
      "Processing Record 24 of Set 4 : dhidhdhoo\n",
      "Processing Record 25 of Set 4 : dwarka\n",
      "Processing Record 26 of Set 4 : san miguel\n",
      "Processing Record 27 of Set 4 : dikson\n",
      "City not found. Skipping...\n",
      "City not found. Skipping...\n",
      "Processing Record 28 of Set 4 : manadhoo\n",
      "Processing Record 29 of Set 4 : labytnangi\n",
      "City not found. Skipping...\n",
      "Processing Record 30 of Set 4 : clyde river\n",
      "Processing Record 31 of Set 4 : turukhansk\n",
      "Processing Record 32 of Set 4 : tuatapere\n",
      "Processing Record 33 of Set 4 : ancud\n"
     ]
    },
    {
     "name": "stdout",
     "output_type": "stream",
     "text": [
      "Processing Record 34 of Set 4 : isangel\n",
      "Processing Record 35 of Set 4 : mendi\n",
      "Processing Record 36 of Set 4 : chuy\n",
      "Processing Record 37 of Set 4 : samarai\n",
      "Processing Record 38 of Set 4 : charters towers\n",
      "Processing Record 39 of Set 4 : qasigiannguit\n",
      "Processing Record 40 of Set 4 : maragogi\n",
      "Processing Record 41 of Set 4 : broome\n",
      "Processing Record 42 of Set 4 : san jose\n",
      "Processing Record 43 of Set 4 : juba\n",
      "City not found. Skipping...\n",
      "Processing Record 44 of Set 4 : belmonte\n",
      "Processing Record 45 of Set 4 : saryozek\n",
      "Processing Record 46 of Set 4 : hambantota\n",
      "Processing Record 47 of Set 4 : marienburg\n",
      "Processing Record 48 of Set 4 : puerto carreno\n",
      "Processing Record 49 of Set 4 : east london\n",
      "Processing Record 50 of Set 4 : makakilo city\n",
      "City not found. Skipping...\n",
      "Processing Record 0 of Set 5 : maxixe\n",
      "Processing Record 1 of Set 5 : kemijarvi\n",
      "City not found. Skipping...\n",
      "City not found. Skipping...\n",
      "Processing Record 2 of Set 5 : lebu\n",
      "Processing Record 3 of Set 5 : kaitangata\n",
      "City not found. Skipping...\n",
      "Processing Record 4 of Set 5 : jalu\n",
      "Processing Record 5 of Set 5 : iqaluit\n",
      "Processing Record 6 of Set 5 : necochea\n",
      "Processing Record 7 of Set 5 : sibirskiy\n",
      "City not found. Skipping...\n",
      "Processing Record 8 of Set 5 : mackay\n",
      "Processing Record 9 of Set 5 : ardakan\n",
      "Processing Record 10 of Set 5 : awbari\n",
      "Processing Record 11 of Set 5 : ha giang\n",
      "Processing Record 12 of Set 5 : bengkulu\n",
      "Processing Record 13 of Set 5 : teacapan\n",
      "Processing Record 14 of Set 5 : altamira\n",
      "Processing Record 15 of Set 5 : goderich\n",
      "Processing Record 16 of Set 5 : nanortalik\n",
      "Processing Record 17 of Set 5 : alto araguaia\n",
      "Processing Record 18 of Set 5 : sabang\n",
      "Processing Record 19 of Set 5 : aykhal\n",
      "Processing Record 20 of Set 5 : gagino\n",
      "Processing Record 21 of Set 5 : iquique\n",
      "Processing Record 22 of Set 5 : benghazi\n",
      "Processing Record 23 of Set 5 : ikwiriri\n",
      "Processing Record 24 of Set 5 : sola\n",
      "City not found. Skipping...\n",
      "Processing Record 25 of Set 5 : liling\n",
      "City not found. Skipping...\n",
      "Processing Record 26 of Set 5 : shellbrook\n",
      "Processing Record 27 of Set 5 : kununurra\n",
      "Processing Record 28 of Set 5 : hope\n",
      "City not found. Skipping...\n",
      "Processing Record 29 of Set 5 : coquimbo\n",
      "Processing Record 30 of Set 5 : aguimes\n",
      "Processing Record 31 of Set 5 : teberda\n",
      "Processing Record 32 of Set 5 : dajal\n",
      "Processing Record 33 of Set 5 : tankhoy\n",
      "Processing Record 34 of Set 5 : marsh harbour\n",
      "Processing Record 35 of Set 5 : mahanoro\n",
      "Processing Record 36 of Set 5 : buala\n",
      "Processing Record 37 of Set 5 : sistranda\n",
      "Processing Record 38 of Set 5 : catamarca\n",
      "Processing Record 39 of Set 5 : matriz de camaragibe\n",
      "City not found. Skipping...\n",
      "Processing Record 40 of Set 5 : danville\n",
      "Processing Record 41 of Set 5 : bhimunipatnam\n",
      "Processing Record 42 of Set 5 : nanchong\n",
      "Processing Record 43 of Set 5 : resistencia\n",
      "Processing Record 44 of Set 5 : shitanjing\n",
      "Processing Record 45 of Set 5 : griffith\n",
      "City not found. Skipping...\n",
      "Processing Record 46 of Set 5 : vardo\n",
      "Processing Record 47 of Set 5 : dubai\n",
      "Processing Record 48 of Set 5 : acarau\n",
      "Processing Record 49 of Set 5 : kualakapuas\n",
      "Processing Record 50 of Set 5 : thompson\n",
      "Processing Record 0 of Set 6 : huty\n",
      "Processing Record 1 of Set 6 : hervey bay\n",
      "Processing Record 2 of Set 6 : alice springs\n",
      "Processing Record 3 of Set 6 : hirara\n",
      "City not found. Skipping...\n",
      "Processing Record 4 of Set 6 : riyadh\n",
      "Processing Record 5 of Set 6 : iguape\n",
      "Processing Record 6 of Set 6 : norman wells\n",
      "Processing Record 7 of Set 6 : matam\n",
      "Processing Record 8 of Set 6 : bambanglipuro\n",
      "Processing Record 9 of Set 6 : davenda\n",
      "Processing Record 10 of Set 6 : hue\n",
      "Processing Record 11 of Set 6 : mount isa\n",
      "Processing Record 12 of Set 6 : longyearbyen\n",
      "Processing Record 13 of Set 6 : itarema\n",
      "Processing Record 14 of Set 6 : nioro\n",
      "Processing Record 15 of Set 6 : ilulissat\n",
      "Processing Record 16 of Set 6 : mehamn\n",
      "Processing Record 17 of Set 6 : ostersund\n",
      "Processing Record 18 of Set 6 : talara\n",
      "Processing Record 19 of Set 6 : san lazaro\n",
      "Processing Record 20 of Set 6 : mizque\n",
      "Processing Record 21 of Set 6 : mandalgovi\n",
      "Processing Record 22 of Set 6 : port blair\n",
      "Processing Record 23 of Set 6 : solhan\n",
      "Processing Record 24 of Set 6 : komsomolets\n",
      "Processing Record 25 of Set 6 : poco das trincheiras\n",
      "Processing Record 26 of Set 6 : varena\n",
      "Processing Record 27 of Set 6 : tilichiki\n",
      "Processing Record 28 of Set 6 : poum\n",
      "Processing Record 29 of Set 6 : fortuna\n",
      "Processing Record 30 of Set 6 : baft\n",
      "Processing Record 31 of Set 6 : shieli\n",
      "Processing Record 32 of Set 6 : port-gentil\n",
      "Processing Record 33 of Set 6 : aklavik\n",
      "Processing Record 34 of Set 6 : vincennes\n",
      "Processing Record 35 of Set 6 : yar-sale\n",
      "Processing Record 36 of Set 6 : haimen\n",
      "Processing Record 37 of Set 6 : boyolangu\n",
      "Processing Record 38 of Set 6 : cocobeach\n",
      "Processing Record 39 of Set 6 : maningrida\n",
      "Processing Record 40 of Set 6 : caratinga\n",
      "Processing Record 41 of Set 6 : haines junction\n",
      "Processing Record 42 of Set 6 : malindi\n",
      "Processing Record 43 of Set 6 : taoudenni\n",
      "Processing Record 44 of Set 6 : jonkoping\n",
      "Processing Record 45 of Set 6 : lagoa\n",
      "City not found. Skipping...\n",
      "Processing Record 46 of Set 6 : darhan\n",
      "Processing Record 47 of Set 6 : aasiaat\n",
      "Processing Record 48 of Set 6 : kudahuvadhoo\n",
      "Processing Record 49 of Set 6 : bethel\n",
      "Processing Record 50 of Set 6 : tashla\n",
      "Processing Record 0 of Set 7 : locri\n",
      "Processing Record 1 of Set 7 : tapes\n",
      "City not found. Skipping...\n",
      "City not found. Skipping...\n",
      "Processing Record 2 of Set 7 : zaria\n",
      "Processing Record 3 of Set 7 : beloha\n",
      "Processing Record 4 of Set 7 : novoulyanovsk\n",
      "Processing Record 5 of Set 7 : beringovskiy\n",
      "Processing Record 6 of Set 7 : barahona\n",
      "Processing Record 7 of Set 7 : baiyin\n",
      "Processing Record 8 of Set 7 : cairns\n",
      "Processing Record 9 of Set 7 : yulara\n",
      "Processing Record 10 of Set 7 : ostrovnoy\n",
      "Processing Record 11 of Set 7 : caucaia\n",
      "Processing Record 12 of Set 7 : hualmay\n",
      "Processing Record 13 of Set 7 : namatanai\n",
      "Processing Record 14 of Set 7 : te karaka\n",
      "Processing Record 15 of Set 7 : laredo\n",
      "Processing Record 16 of Set 7 : valparaiso\n",
      "Processing Record 17 of Set 7 : abapo\n",
      "Processing Record 18 of Set 7 : phulabani\n",
      "Processing Record 19 of Set 7 : mana\n",
      "Processing Record 20 of Set 7 : praia da vitoria\n",
      "Processing Record 21 of Set 7 : nakkila\n",
      "Processing Record 22 of Set 7 : hasaki\n",
      "Processing Record 23 of Set 7 : kuraymah\n",
      "Processing Record 24 of Set 7 : felipe carrillo puerto\n",
      "Processing Record 25 of Set 7 : hofn\n",
      "Processing Record 26 of Set 7 : yerbogachen\n",
      "Processing Record 27 of Set 7 : fredericksburg\n",
      "Processing Record 28 of Set 7 : algiers\n",
      "Processing Record 29 of Set 7 : sioux lookout\n",
      "Processing Record 30 of Set 7 : saint-augustin\n",
      "City not found. Skipping...\n",
      "Processing Record 31 of Set 7 : teguldet\n",
      "Processing Record 32 of Set 7 : dahuk\n",
      "Processing Record 33 of Set 7 : gao\n",
      "Processing Record 34 of Set 7 : timbo\n",
      "Processing Record 35 of Set 7 : cap malheureux\n",
      "Processing Record 36 of Set 7 : saryagash\n",
      "Processing Record 37 of Set 7 : satipo\n",
      "Processing Record 38 of Set 7 : trat\n",
      "Processing Record 39 of Set 7 : saint anthony\n",
      "Processing Record 40 of Set 7 : saint-georges\n",
      "Processing Record 41 of Set 7 : high level\n",
      "Processing Record 42 of Set 7 : huarmey\n",
      "Processing Record 43 of Set 7 : kaniama\n",
      "Processing Record 44 of Set 7 : karratha\n",
      "Processing Record 45 of Set 7 : yangjiang\n",
      "Processing Record 46 of Set 7 : churapcha\n",
      "Processing Record 47 of Set 7 : taltal\n",
      "Processing Record 48 of Set 7 : vestmannaeyjar\n",
      "Processing Record 49 of Set 7 : mayumba\n",
      "Processing Record 50 of Set 7 : talaya\n",
      "Processing Record 0 of Set 8 : sabla\n",
      "Processing Record 1 of Set 8 : polson\n",
      "Processing Record 2 of Set 8 : ancona\n",
      "Processing Record 3 of Set 8 : puerto narino\n",
      "Processing Record 4 of Set 8 : gigmoto\n",
      "Processing Record 5 of Set 8 : bubaque\n",
      "City not found. Skipping...\n",
      "Processing Record 6 of Set 8 : filingue\n",
      "Processing Record 7 of Set 8 : marica\n",
      "Processing Record 8 of Set 8 : dudinka\n",
      "Processing Record 9 of Set 8 : kadoma\n",
      "Processing Record 10 of Set 8 : jasper\n",
      "Processing Record 11 of Set 8 : artyom\n",
      "Processing Record 12 of Set 8 : jardim\n",
      "Processing Record 13 of Set 8 : hanmer springs\n",
      "Processing Record 14 of Set 8 : olinda\n",
      "Processing Record 15 of Set 8 : hof\n",
      "Processing Record 16 of Set 8 : guozhen\n",
      "Processing Record 17 of Set 8 : punta de piedra\n",
      "Processing Record 18 of Set 8 : tura\n",
      "City not found. Skipping...\n"
     ]
    },
    {
     "name": "stdout",
     "output_type": "stream",
     "text": [
      "Processing Record 19 of Set 8 : chapais\n",
      "Processing Record 20 of Set 8 : saint-prosper\n",
      "Processing Record 21 of Set 8 : san rafael\n",
      "Processing Record 22 of Set 8 : haverfordwest\n",
      "Processing Record 23 of Set 8 : isparta\n",
      "Processing Record 24 of Set 8 : ourossogui\n",
      "Processing Record 25 of Set 8 : kolokani\n",
      "Processing Record 26 of Set 8 : kahului\n",
      "Processing Record 27 of Set 8 : verkh-usugli\n",
      "Processing Record 28 of Set 8 : gat\n",
      "Processing Record 29 of Set 8 : prince rupert\n",
      "Processing Record 30 of Set 8 : arrifes\n",
      "Processing Record 31 of Set 8 : fasa\n",
      "Processing Record 32 of Set 8 : swellendam\n",
      "Processing Record 33 of Set 8 : paraiso\n",
      "Processing Record 34 of Set 8 : takoradi\n",
      "Processing Record 35 of Set 8 : ottawa\n",
      "Processing Record 36 of Set 8 : alta floresta\n",
      "Processing Record 37 of Set 8 : gorom-gorom\n",
      "Processing Record 38 of Set 8 : ossora\n",
      "Processing Record 39 of Set 8 : havoysund\n",
      "Processing Record 40 of Set 8 : moroni\n",
      "Processing Record 41 of Set 8 : portland\n",
      "City not found. Skipping...\n",
      "Processing Record 42 of Set 8 : neon karlovasion\n",
      "Processing Record 43 of Set 8 : palmer\n",
      "Processing Record 44 of Set 8 : flinders\n",
      "Processing Record 45 of Set 8 : veracruz\n",
      "Processing Record 46 of Set 8 : kolondieba\n",
      "Processing Record 47 of Set 8 : oussouye\n",
      "Processing Record 48 of Set 8 : sao filipe\n",
      "Processing Record 49 of Set 8 : sterling\n",
      "Processing Record 50 of Set 8 : college\n",
      "Processing Record 0 of Set 9 : yuancheng\n",
      "Processing Record 1 of Set 9 : dingle\n",
      "Processing Record 2 of Set 9 : los alamos\n",
      "Processing Record 3 of Set 9 : lodwar\n",
      "Processing Record 4 of Set 9 : neiafu\n",
      "Processing Record 5 of Set 9 : nelson bay\n",
      "Processing Record 6 of Set 9 : chokwe\n",
      "Processing Record 7 of Set 9 : panjab\n",
      "Processing Record 8 of Set 9 : rjukan\n",
      "Processing Record 9 of Set 9 : sorland\n",
      "Processing Record 10 of Set 9 : espoo\n",
      "City not found. Skipping...\n",
      "Processing Record 11 of Set 9 : naze\n",
      "Processing Record 12 of Set 9 : vao\n",
      "Processing Record 13 of Set 9 : miri\n",
      "Processing Record 14 of Set 9 : saurimo\n",
      "City not found. Skipping...\n",
      "Processing Record 15 of Set 9 : minas de barroteran\n",
      "Processing Record 16 of Set 9 : samfya\n",
      "Processing Record 17 of Set 9 : korla\n",
      "Processing Record 18 of Set 9 : sabha\n",
      "Processing Record 19 of Set 9 : vung tau\n",
      "Processing Record 20 of Set 9 : turbat\n",
      "Processing Record 21 of Set 9 : caohai\n",
      "Processing Record 22 of Set 9 : cochabamba\n",
      "City not found. Skipping...\n",
      "Processing Record 23 of Set 9 : udachnyy\n",
      "Processing Record 24 of Set 9 : kuusamo\n",
      "Processing Record 25 of Set 9 : moyale\n",
      "Processing Record 26 of Set 9 : nakatsugawa\n",
      "Processing Record 27 of Set 9 : sabancuy\n",
      "Processing Record 28 of Set 9 : hachinohe\n",
      "Processing Record 29 of Set 9 : joensuu\n",
      "Processing Record 30 of Set 9 : casablanca\n",
      "Processing Record 31 of Set 9 : gavle\n",
      "Processing Record 32 of Set 9 : trairi\n",
      "Processing Record 33 of Set 9 : yellandu\n",
      "Processing Record 34 of Set 9 : kavieng\n",
      "Processing Record 35 of Set 9 : alofi\n",
      "Processing Record 36 of Set 9 : los llanos de aridane\n",
      "Processing Record 37 of Set 9 : bardejov\n",
      "Processing Record 38 of Set 9 : ilinskiy\n",
      "Processing Record 39 of Set 9 : estelle\n",
      "Processing Record 40 of Set 9 : terre haute\n",
      "Processing Record 41 of Set 9 : esperance\n",
      "Processing Record 42 of Set 9 : nandyal\n",
      "Processing Record 43 of Set 9 : carquefou\n",
      "Processing Record 44 of Set 9 : chitipa\n",
      "Processing Record 45 of Set 9 : srednekolymsk\n",
      "Processing Record 46 of Set 9 : vila velha\n",
      "Processing Record 47 of Set 9 : namibe\n",
      "Processing Record 48 of Set 9 : richards bay\n",
      "Processing Record 49 of Set 9 : clarence town\n",
      "Processing Record 50 of Set 9 : jalingo\n",
      "Processing Record 0 of Set 10 : lazaro cardenas\n",
      "Processing Record 1 of Set 10 : petaluma\n",
      "Processing Record 2 of Set 10 : narsaq\n",
      "Processing Record 3 of Set 10 : koutsouras\n",
      "Processing Record 4 of Set 10 : tuyen quang\n",
      "Processing Record 5 of Set 10 : guerrero negro\n",
      "Processing Record 6 of Set 10 : santo antonio do ica\n",
      "Processing Record 7 of Set 10 : pozo colorado\n",
      "Processing Record 8 of Set 10 : yermekeyevo\n",
      "Processing Record 9 of Set 10 : bilibino\n",
      "Processing Record 10 of Set 10 : carutapera\n",
      "City not found. Skipping...\n",
      "Processing Record 11 of Set 10 : batagay\n",
      "Processing Record 12 of Set 10 : belyy yar\n",
      "Processing Record 13 of Set 10 : asfi\n",
      "Processing Record 14 of Set 10 : crossville\n",
      "Processing Record 15 of Set 10 : nouakchott\n",
      "Processing Record 16 of Set 10 : kushiro\n",
      "Processing Record 17 of Set 10 : nalut\n",
      "Processing Record 18 of Set 10 : krasnopillya\n",
      "Processing Record 19 of Set 10 : cidreira\n",
      "Processing Record 20 of Set 10 : parintins\n",
      "Processing Record 21 of Set 10 : kibala\n",
      "Processing Record 22 of Set 10 : balykshi\n",
      "Processing Record 23 of Set 10 : sur\n",
      "Processing Record 24 of Set 10 : san patricio\n",
      "Processing Record 25 of Set 10 : russell\n",
      "Processing Record 26 of Set 10 : graaff-reinet\n",
      "Processing Record 27 of Set 10 : rewa\n",
      "Processing Record 28 of Set 10 : dovolnoye\n",
      "Processing Record 29 of Set 10 : san pedro\n",
      "Processing Record 30 of Set 10 : batticaloa\n",
      "Processing Record 31 of Set 10 : ankpa\n",
      "Processing Record 32 of Set 10 : calama\n",
      "Processing Record 33 of Set 10 : magway\n",
      "Processing Record 34 of Set 10 : gazojak\n",
      "Processing Record 35 of Set 10 : vostok\n",
      "City not found. Skipping...\n",
      "City not found. Skipping...\n",
      "Processing Record 36 of Set 10 : storforshei\n",
      "Processing Record 37 of Set 10 : pyinmana\n",
      "Processing Record 38 of Set 10 : kavaratti\n",
      "Processing Record 39 of Set 10 : soligalich\n",
      "Processing Record 40 of Set 10 : pangoa\n",
      "Processing Record 41 of Set 10 : salina cruz\n",
      "Processing Record 42 of Set 10 : pindwara\n",
      "Processing Record 43 of Set 10 : pacific grove\n",
      "Processing Record 44 of Set 10 : pingyin\n",
      "Processing Record 45 of Set 10 : dubbo\n",
      "Processing Record 46 of Set 10 : payo\n",
      "Processing Record 47 of Set 10 : byron bay\n",
      "Processing Record 48 of Set 10 : orbetello\n",
      "Processing Record 49 of Set 10 : margate\n",
      "Processing Record 50 of Set 10 : novoagansk\n",
      "Processing Record 0 of Set 11 : muhos\n",
      "Processing Record 1 of Set 11 : tupik\n",
      "Processing Record 2 of Set 11 : shache\n",
      "Processing Record 3 of Set 11 : churachandpur\n",
      "Processing Record 4 of Set 11 : xichang\n",
      "Processing Record 5 of Set 11 : uyar\n",
      "Processing Record 6 of Set 11 : mitchell\n",
      "Processing Record 7 of Set 11 : mount gambier\n",
      "Processing Record 8 of Set 11 : sechura\n",
      "Processing Record 9 of Set 11 : ketchikan\n",
      "City not found. Skipping...\n",
      "Processing Record 10 of Set 11 : camacupa\n",
      "Processing Record 11 of Set 11 : celestun\n",
      "Processing Record 12 of Set 11 : matagami\n",
      "Processing Record 13 of Set 11 : atagay\n",
      "Processing Record 14 of Set 11 : yabelo\n",
      "Processing Record 15 of Set 11 : lorengau\n",
      "Processing Record 16 of Set 11 : kimbe\n",
      "Processing Record 17 of Set 11 : flin flon\n",
      "Processing Record 18 of Set 11 : marrakesh\n",
      "Processing Record 19 of Set 11 : cururupu\n",
      "Processing Record 20 of Set 11 : fergus falls\n",
      "Processing Record 21 of Set 11 : zhob\n",
      "City not found. Skipping...\n",
      "Processing Record 22 of Set 11 : nizwa\n",
      "Processing Record 23 of Set 11 : emirdag\n",
      "Processing Record 24 of Set 11 : vagur\n",
      "City not found. Skipping...\n",
      "Processing Record 25 of Set 11 : mayo\n",
      "Processing Record 26 of Set 11 : boa vista\n",
      "Processing Record 27 of Set 11 : zhigansk\n",
      "Processing Record 28 of Set 11 : jiuquan\n",
      "Processing Record 29 of Set 11 : arki\n",
      "Processing Record 30 of Set 11 : mildura\n",
      "Processing Record 31 of Set 11 : manta\n",
      "Processing Record 32 of Set 11 : kiama\n",
      "Processing Record 33 of Set 11 : naples\n",
      "Processing Record 34 of Set 11 : najran\n",
      "Processing Record 35 of Set 11 : tahe\n",
      "Processing Record 36 of Set 11 : tezu\n",
      "Processing Record 37 of Set 11 : adrar\n",
      "Processing Record 38 of Set 11 : grindavik\n",
      "Processing Record 39 of Set 11 : tabuk\n",
      "Processing Record 40 of Set 11 : ixtapa\n",
      "Processing Record 41 of Set 11 : salalah\n",
      "Processing Record 42 of Set 11 : broken hill\n",
      "Processing Record 43 of Set 11 : siemiatycze\n",
      "Processing Record 44 of Set 11 : zyryanka\n",
      "City not found. Skipping...\n",
      "Processing Record 45 of Set 11 : gien\n",
      "Processing Record 46 of Set 11 : miranda\n",
      "City not found. Skipping...\n",
      "Processing Record 47 of Set 11 : port said\n",
      "Processing Record 48 of Set 11 : indapur\n",
      "City not found. Skipping...\n",
      "Processing Record 49 of Set 11 : aitape\n",
      "Processing Record 50 of Set 11 : caravelas\n",
      "Processing Record 0 of Set 12 : pedra branca\n",
      "Processing Record 1 of Set 12 : santa ines\n",
      "Processing Record 2 of Set 12 : nouadhibou\n",
      "-------------------------------\n",
      "Data Retrieval Complete\n",
      "-------------------------------\n"
     ]
    }
   ],
   "source": [
    "# Performing API calls\n",
    "print(\"Beginning Data Retrieval \")\n",
    "print(\"-------------------------------\")\n",
    "\n",
    "base_url = \"http://api.openweathermap.org/data/2.5/weather?\"\n",
    "units = \"imperial\"\n",
    "query_url = f\"{base_url}appid={weather_api_key}&units={units}&q=\"\n",
    "\n",
    "#For loop matching city names with city_list using enumerate method\n",
    "for index, city in enumerate(cities, start = 1):\n",
    "    try:\n",
    "        response = requests.get(query_url + city).json()\n",
    "        city_list.append(response[\"name\"])\n",
    "        cloud_list.append(response[\"clouds\"][\"all\"])\n",
    "        country_list.append(response[\"sys\"][\"country\"])\n",
    "        date_list.append(response[\"dt\"])\n",
    "        humidity_list.append(response[\"main\"][\"humidity\"])\n",
    "        lats_list.append(response[\"coord\"][\"lat\"])\n",
    "        lngs_list.append(response[\"coord\"][\"lon\"])\n",
    "        temp_max_list.append(response['main']['temp_max'])\n",
    "        wind_speed_list.append(response[\"wind\"][\"speed\"])\n",
    "        \n",
    "        if index_counter > 49:\n",
    "            index_counter = 0\n",
    "            set_counter = set_counter + 1\n",
    "        \n",
    "        else:\n",
    "            index_counter = index_counter + 1\n",
    "        \n",
    "        print(f\"Processing Record {index_counter} of Set {set_counter} : {city}\")\n",
    "        \n",
    "    except(KeyError, IndexError):\n",
    "        print(\"City not found. Skipping...\")\n",
    "        \n",
    "print(\"-------------------------------\")\n",
    "print(\"Data Retrieval Complete\")\n",
    "print(\"-------------------------------\")\n",
    "        "
   ]
  },
  {
   "cell_type": "markdown",
   "metadata": {},
   "source": [
    "### Convert Raw Data to DataFrame\n",
    "* Export the city data into a .csv.\n",
    "* Display the DataFrame"
   ]
  },
  {
   "cell_type": "code",
   "execution_count": 9,
   "metadata": {},
   "outputs": [],
   "source": [
    "#Create a dataframe using information from data retrieval\n",
    "weather_data = pd.DataFrame({\n",
    "    \"City\" : city_list,\n",
    "    \"Lat\" : lats_list,\n",
    "    \"Lng\" : lngs_list,\n",
    "    \"Max Temp\" : temp_max_list,\n",
    "    \"Humidity\" : humidity_list,\n",
    "    \"Clouds\" : cloud_list,\n",
    "    \"Wind Speed\" : wind_speed_list,\n",
    "    \"Country\" : country_list,\n",
    "    \"Date\" : date_list    \n",
    "})"
   ]
  },
  {
   "cell_type": "code",
   "execution_count": 10,
   "metadata": {},
   "outputs": [
    {
     "data": {
      "text/plain": [
       "City          563\n",
       "Lat           563\n",
       "Lng           563\n",
       "Max Temp      563\n",
       "Humidity      563\n",
       "Clouds        563\n",
       "Wind Speed    563\n",
       "Country       563\n",
       "Date          563\n",
       "dtype: int64"
      ]
     },
     "execution_count": 10,
     "metadata": {},
     "output_type": "execute_result"
    }
   ],
   "source": [
    "#Count weather data\n",
    "weather_data.count()"
   ]
  },
  {
   "cell_type": "markdown",
   "metadata": {},
   "source": [
    "## Inspect the data and remove the cities where the humidity > 100%.\n",
    "----\n",
    "Skip this step if there are no cities that have humidity > 100%. "
   ]
  },
  {
   "cell_type": "code",
   "execution_count": 13,
   "metadata": {},
   "outputs": [],
   "source": [
    "# Make a new DataFrame equal to the city data to drop all humidity outliers by index.\n",
    "# Passing \"inplace=False\" will make a copy of the city_data DataFrame, which we call \"clean_city_data\".\n",
    "#Saving CSV file\n",
    "weather_data.to_csv(\"../output_data/cities.csv\", index=False)"
   ]
  },
  {
   "cell_type": "markdown",
   "metadata": {},
   "source": [
    "## Plotting the Data\n",
    "* Use proper labeling of the plots using plot titles (including date of analysis) and axes labels.\n",
    "* Save the plotted figures as .pngs."
   ]
  },
  {
   "cell_type": "markdown",
   "metadata": {},
   "source": [
    "## Latitude vs. Temperature Plot"
   ]
  },
  {
   "cell_type": "code",
   "execution_count": 14,
   "metadata": {
    "scrolled": true
   },
   "outputs": [
    {
     "data": {
      "image/png": "[encoded data removed]",
      "text/plain": [
       "<Figure size 432x288 with 1 Axes>"
      ]
     },
     "metadata": {
      "needs_background": "light"
     },
     "output_type": "display_data"
    }
   ],
   "source": [
    "plt.scatter(weather_data[\"Lat\"], weather_data[\"Max Temp\"], color = \"red\", edgecolor = \"black\")\n",
    "\n",
    "plt.title(\"City Latitude vs. Max Temperature (06/18/20)\")\n",
    "plt.xlabel(\"Latitude\")\n",
    "plt.ylabel(\"Max Temperature (F)\")\n",
    "plt.grid(True)\n",
    "plt.savefig(\"../Images/City Latitude vs Max Temperature.png\")\n",
    "# this plot is showing the Latitude vs temperature correlation, and it shows lower\n",
    "#temperartures to exttreme high, or low elevation"
   ]
  },
  {
   "cell_type": "markdown",
   "metadata": {},
   "source": [
    "## Latitude vs. Humidity Plot"
   ]
  },
  {
   "cell_type": "code",
   "execution_count": 15,
   "metadata": {},
   "outputs": [
    {
     "data": {
      "image/png": "[encoded data removed]",
      "text/plain": [
       "<Figure size 432x288 with 1 Axes>"
      ]
     },
     "metadata": {
      "needs_background": "light"
     },
     "output_type": "display_data"
    }
   ],
   "source": [
    "plt.scatter(weather_data[\"Lat\"], weather_data[\"Humidity\"], color = \"red\", edgecolor = \"black\")\n",
    "\n",
    "plt.title(\"City Latitude vs. Humidity (06/18/20)\")\n",
    "plt.xlabel(\"Latitude\")\n",
    "plt.ylabel(\"Humidity (%))\")\n",
    "plt.grid(True)\n",
    "plt.savefig(\"../Images/City Latitude vs Humidity.png\")\n",
    "# this plot is showing the Latitude vs Humidity correlation,and I dont believe there is any relationship here."
   ]
  },
  {
   "cell_type": "markdown",
   "metadata": {},
   "source": [
    "## Latitude vs. Cloudiness Plot"
   ]
  },
  {
   "cell_type": "code",
   "execution_count": 16,
   "metadata": {},
   "outputs": [
    {
     "data": {
      "image/png": "[encoded data removed]",
      "text/plain": [
       "<Figure size 432x288 with 1 Axes>"
      ]
     },
     "metadata": {
      "needs_background": "light"
     },
     "output_type": "display_data"
    }
   ],
   "source": [
    "plt.scatter(weather_data[\"Lat\"], weather_data[\"Clouds\"], color = \"red\", edgecolor = \"black\")\n",
    "\n",
    "plt.title(\"City Latitude vs. Cloudiness (06/18/20)\")\n",
    "plt.xlabel(\"Latitude\")\n",
    "plt.ylabel(\"Cloudiness (%))\")\n",
    "plt.grid(True)\n",
    "plt.savefig(\"../Images/City Latitude vs Cloudiness.png\")\n",
    "# this plot is showing the Latitude vs Cloudiness correlation,and I dont believe there is any relationship here."
   ]
  },
  {
   "cell_type": "markdown",
   "metadata": {},
   "source": [
    "## Latitude vs. Wind Speed Plot"
   ]
  },
  {
   "cell_type": "code",
   "execution_count": 17,
   "metadata": {},
   "outputs": [
    {
     "data": {
      "image/png": "[encoded data removed]",
      "text/plain": [
       "<Figure size 432x288 with 1 Axes>"
      ]
     },
     "metadata": {
      "needs_background": "light"
     },
     "output_type": "display_data"
    }
   ],
   "source": [
    "#Latitude vs. Wind Speed Plot scatter plot\n",
    "plt.scatter(weather_data[\"Lat\"], weather_data[\"Wind Speed\"], color = \"red\", edgecolor = \"black\")\n",
    "\n",
    "plt.title(\"City Latitude vs. Wind Speed (06/18/20)\")\n",
    "plt.xlabel(\"Latitude\")\n",
    "plt.ylabel(\"Wind Speed (%))\")\n",
    "plt.grid(True)\n",
    "plt.savefig(\"../Images/City Latitude vs Wind Speed.png\")\n",
    "# this plot is showing the Latitude vs Windspeed correlation,and I dont believe there is any relationship here."
   ]
  },
  {
   "cell_type": "markdown",
   "metadata": {},
   "source": [
    "## Linear Regression"
   ]
  },
  {
   "cell_type": "code",
   "execution_count": null,
   "metadata": {},
   "outputs": [],
   "source": []
  },
  {
   "cell_type": "markdown",
   "metadata": {},
   "source": [
    "####  Northern Hemisphere - Max Temp vs. Latitude Linear Regression"
   ]
  },
  {
   "cell_type": "code",
   "execution_count": 18,
   "metadata": {},
   "outputs": [
    {
     "data": {
      "text/html": [
       "<div>\n",
       "<style scoped>\n",
       "    .dataframe tbody tr th:only-of-type {\n",
       "        vertical-align: middle;\n",
       "    }\n",
       "\n",
       "    .dataframe tbody tr th {\n",
       "        vertical-align: top;\n",
       "    }\n",
       "\n",
       "    .dataframe thead th {\n",
       "        text-align: right;\n",
       "    }\n",
       "</style>\n",
       "<table border=\"1\" class=\"dataframe\">\n",
       "  <thead>\n",
       "    <tr style=\"text-align: right;\">\n",
       "      <th></th>\n",
       "      <th>City</th>\n",
       "      <th>Lat</th>\n",
       "      <th>Lng</th>\n",
       "      <th>Max Temp</th>\n",
       "      <th>Humidity</th>\n",
       "      <th>Clouds</th>\n",
       "      <th>Wind Speed</th>\n",
       "      <th>Country</th>\n",
       "      <th>Date</th>\n",
       "    </tr>\n",
       "  </thead>\n",
       "  <tbody>\n",
       "    <tr>\n",
       "      <th>1</th>\n",
       "      <td>Rikitea</td>\n",
       "      <td>-23.1203</td>\n",
       "      <td>-134.9692</td>\n",
       "      <td>78.12</td>\n",
       "      <td>78</td>\n",
       "      <td>17</td>\n",
       "      <td>10.20</td>\n",
       "      <td>PF</td>\n",
       "      <td>1620471614</td>\n",
       "    </tr>\n",
       "    <tr>\n",
       "      <th>7</th>\n",
       "      <td>Hermanus</td>\n",
       "      <td>-34.4187</td>\n",
       "      <td>19.2345</td>\n",
       "      <td>66.00</td>\n",
       "      <td>82</td>\n",
       "      <td>99</td>\n",
       "      <td>5.01</td>\n",
       "      <td>ZA</td>\n",
       "      <td>1620471616</td>\n",
       "    </tr>\n",
       "    <tr>\n",
       "      <th>8</th>\n",
       "      <td>Planaltina</td>\n",
       "      <td>-15.4528</td>\n",
       "      <td>-47.6142</td>\n",
       "      <td>69.80</td>\n",
       "      <td>64</td>\n",
       "      <td>75</td>\n",
       "      <td>5.75</td>\n",
       "      <td>BR</td>\n",
       "      <td>1620471616</td>\n",
       "    </tr>\n",
       "    <tr>\n",
       "      <th>11</th>\n",
       "      <td>Atuona</td>\n",
       "      <td>-9.8000</td>\n",
       "      <td>-139.0333</td>\n",
       "      <td>79.52</td>\n",
       "      <td>78</td>\n",
       "      <td>35</td>\n",
       "      <td>17.76</td>\n",
       "      <td>PF</td>\n",
       "      <td>1620471617</td>\n",
       "    </tr>\n",
       "    <tr>\n",
       "      <th>16</th>\n",
       "      <td>Carnarvon</td>\n",
       "      <td>-24.8667</td>\n",
       "      <td>113.6333</td>\n",
       "      <td>71.60</td>\n",
       "      <td>68</td>\n",
       "      <td>0</td>\n",
       "      <td>13.80</td>\n",
       "      <td>AU</td>\n",
       "      <td>1620471619</td>\n",
       "    </tr>\n",
       "    <tr>\n",
       "      <th>...</th>\n",
       "      <td>...</td>\n",
       "      <td>...</td>\n",
       "      <td>...</td>\n",
       "      <td>...</td>\n",
       "      <td>...</td>\n",
       "      <td>...</td>\n",
       "      <td>...</td>\n",
       "      <td>...</td>\n",
       "      <td>...</td>\n",
       "    </tr>\n",
       "    <tr>\n",
       "      <th>551</th>\n",
       "      <td>Broken Hill</td>\n",
       "      <td>-31.9500</td>\n",
       "      <td>141.4333</td>\n",
       "      <td>57.20</td>\n",
       "      <td>94</td>\n",
       "      <td>32</td>\n",
       "      <td>4.61</td>\n",
       "      <td>AU</td>\n",
       "      <td>1620471781</td>\n",
       "    </tr>\n",
       "    <tr>\n",
       "      <th>558</th>\n",
       "      <td>Aitape</td>\n",
       "      <td>-3.1374</td>\n",
       "      <td>142.3475</td>\n",
       "      <td>80.91</td>\n",
       "      <td>84</td>\n",
       "      <td>75</td>\n",
       "      <td>4.23</td>\n",
       "      <td>PG</td>\n",
       "      <td>1620471783</td>\n",
       "    </tr>\n",
       "    <tr>\n",
       "      <th>559</th>\n",
       "      <td>Caravelas</td>\n",
       "      <td>-17.7125</td>\n",
       "      <td>-39.2481</td>\n",
       "      <td>75.70</td>\n",
       "      <td>86</td>\n",
       "      <td>13</td>\n",
       "      <td>7.67</td>\n",
       "      <td>BR</td>\n",
       "      <td>1620471784</td>\n",
       "    </tr>\n",
       "    <tr>\n",
       "      <th>560</th>\n",
       "      <td>Pedra Branca</td>\n",
       "      <td>-5.4542</td>\n",
       "      <td>-39.7172</td>\n",
       "      <td>71.19</td>\n",
       "      <td>95</td>\n",
       "      <td>64</td>\n",
       "      <td>3.98</td>\n",
       "      <td>BR</td>\n",
       "      <td>1620471653</td>\n",
       "    </tr>\n",
       "    <tr>\n",
       "      <th>561</th>\n",
       "      <td>Santa Inês</td>\n",
       "      <td>-3.6667</td>\n",
       "      <td>-45.3800</td>\n",
       "      <td>77.00</td>\n",
       "      <td>91</td>\n",
       "      <td>82</td>\n",
       "      <td>2.86</td>\n",
       "      <td>BR</td>\n",
       "      <td>1620471538</td>\n",
       "    </tr>\n",
       "  </tbody>\n",
       "</table>\n",
       "<p>183 rows × 9 columns</p>\n",
       "</div>"
      ],
      "text/plain": [
       "             City      Lat       Lng  Max Temp  Humidity  Clouds  Wind Speed  \\\n",
       "1         Rikitea -23.1203 -134.9692     78.12        78      17       10.20   \n",
       "7        Hermanus -34.4187   19.2345     66.00        82      99        5.01   \n",
       "8      Planaltina -15.4528  -47.6142     69.80        64      75        5.75   \n",
       "11         Atuona  -9.8000 -139.0333     79.52        78      35       17.76   \n",
       "16      Carnarvon -24.8667  113.6333     71.60        68       0       13.80   \n",
       "..            ...      ...       ...       ...       ...     ...         ...   \n",
       "551   Broken Hill -31.9500  141.4333     57.20        94      32        4.61   \n",
       "558        Aitape  -3.1374  142.3475     80.91        84      75        4.23   \n",
       "559     Caravelas -17.7125  -39.2481     75.70        86      13        7.67   \n",
       "560  Pedra Branca  -5.4542  -39.7172     71.19        95      64        3.98   \n",
       "561    Santa Inês  -3.6667  -45.3800     77.00        91      82        2.86   \n",
       "\n",
       "    Country        Date  \n",
       "1        PF  1620471614  \n",
       "7        ZA  1620471616  \n",
       "8        BR  1620471616  \n",
       "11       PF  1620471617  \n",
       "16       AU  1620471619  \n",
       "..      ...         ...  \n",
       "551      AU  1620471781  \n",
       "558      PG  1620471783  \n",
       "559      BR  1620471784  \n",
       "560      BR  1620471653  \n",
       "561      BR  1620471538  \n",
       "\n",
       "[183 rows x 9 columns]"
      ]
     },
     "execution_count": 18,
     "metadata": {},
     "output_type": "execute_result"
    }
   ],
   "source": [
    "nothern = weather_data.loc[weather_data[\"Lat\"] >= 0.0]\n",
    "nothern\n",
    "\n",
    "southern = weather_data.loc[weather_data[\"Lat\"] < 0.0]\n",
    "southern\n"
   ]
  },
  {
   "cell_type": "code",
   "execution_count": 23,
   "metadata": {},
   "outputs": [],
   "source": [
    "def plotLinearRegression(xdata,ydata,xlbl,ylbl,lblpos,ifig):\n",
    "    (slope, intercept, rvalue, pvalue, stderr) = linregress(xdata, ydata)\n",
    "    print(f\"The r-squared is: {rvalue}\")\n",
    "    regress_values = xdata * slope + intercept\n",
    "    line_eq = \"y = \" + str(round(slope,2)) + \"x + \" + str(round(intercept,2))\n",
    "\n",
    "    plt.scatter(xdata,ydata)\n",
    "    plt.plot(xdata,regress_values,\"r-\")\n",
    "    plt.annotate(line_eq,lblpos,fontsize=15,color=\"red\")\n",
    "    plt.xlabel(xlbl)\n",
    "    plt.ylabel(ylbl)\n",
    "    plt.savefig(f\"../images/fig{ifig}.png\")\n",
    "    plt.show()"
   ]
  },
  {
   "cell_type": "markdown",
   "metadata": {},
   "source": [
    "####  Southern Hemisphere - Max Temp vs. Latitude Linear Regression"
   ]
  },
  {
   "cell_type": "code",
   "execution_count": 31,
   "metadata": {},
   "outputs": [
    {
     "name": "stdout",
     "output_type": "stream",
     "text": [
      "The r-squared is: 0.7062358384156944\n"
     ]
    },
    {
     "data": {
      "image/png": "[encoded data removed]",
      "text/plain": [
       "<Figure size 432x288 with 1 Axes>"
      ]
     },
     "metadata": {
      "needs_background": "light"
     },
     "output_type": "display_data"
    }
   ],
   "source": [
    "\n",
    "# Southern Hemisphere - Max Temp vs. Latitude Linear Regression\n",
    "\n",
    "xlbl = \"Lat\"\n",
    "ylbl = \"Max Temp\"\n",
    "lblpos = (-55,90)\n",
    "plotLinearRegression(southern[xlbl],southern[ylbl],xlbl,ylbl,lblpos,6)\n",
    "# this plot is showing the Southern Hemisphere - Max Temp vs. Latitude Linear Regression,and it appears the average temperature rises with the elevation.\n",
    "                    "
   ]
  },
  {
   "cell_type": "markdown",
   "metadata": {},
   "source": [
    "####  Northern Hemisphere - Humidity (%) vs. Latitude Linear Regression"
   ]
  },
  {
   "cell_type": "code",
   "execution_count": 32,
   "metadata": {},
   "outputs": [
    {
     "name": "stdout",
     "output_type": "stream",
     "text": [
      "The r-squared is: 0.19966374574868043\n"
     ]
    },
    {
     "data": {
      "image/png": "[encoded data removed]",
      "text/plain": [
       "<Figure size 432x288 with 1 Axes>"
      ]
     },
     "metadata": {
      "needs_background": "light"
     },
     "output_type": "display_data"
    }
   ],
   "source": [
    "xlbl = \"Lat\"\n",
    "ylbl = \"Humidity\"\n",
    "lblpos = (45,10)\n",
    "plotLinearRegression(nothern[xlbl],nothern[ylbl],xlbl,ylbl,lblpos,7)\n",
    "# this plot is showing the Northern Hemisphere - Humidity (%) vs. Latitude Linear Regression,and I dont believe there is any relationship here."
   ]
  },
  {
   "cell_type": "markdown",
   "metadata": {},
   "source": [
    "####  Southern Hemisphere - Humidity (%) vs. Latitude Linear Regression"
   ]
  },
  {
   "cell_type": "code",
   "execution_count": 33,
   "metadata": {},
   "outputs": [
    {
     "name": "stdout",
     "output_type": "stream",
     "text": [
      "The r-squared is: 0.008131993038162267\n"
     ]
    },
    {
     "data": {
      "image/png": "[encoded data removed]",
      "text/plain": [
       "<Figure size 432x288 with 1 Axes>"
      ]
     },
     "metadata": {
      "needs_background": "light"
     },
     "output_type": "display_data"
    }
   ],
   "source": [
    "xlbl = \"Lat\"\n",
    "ylbl = \"Humidity\"\n",
    "lblpos = (-55,15)\n",
    "plotLinearRegression(southern[xlbl],southern[ylbl],xlbl,ylbl,lblpos,8)\n",
    "# this plot is showing the Southern Hemisphere - Humidity (%) vs. Latitude Linear Regression,and I dont believe there is any relationship here."
   ]
  },
  {
   "cell_type": "markdown",
   "metadata": {},
   "source": [
    "####  Northern Hemisphere - Cloudiness (%) vs. Latitude Linear Regression"
   ]
  },
  {
   "cell_type": "code",
   "execution_count": 34,
   "metadata": {},
   "outputs": [
    {
     "name": "stdout",
     "output_type": "stream",
     "text": [
      "The r-squared is: 0.16082856594777967\n"
     ]
    },
    {
     "data": {
      "image/png": "[encoded data removed]",
      "text/plain": [
       "<Figure size 432x288 with 1 Axes>"
      ]
     },
     "metadata": {
      "needs_background": "light"
     },
     "output_type": "display_data"
    }
   ],
   "source": [
    "xlbl = \"Lat\"\n",
    "ylbl = \"Clouds\"\n",
    "lblpos = (20,40)\n",
    "plotLinearRegression(nothern[xlbl],nothern[ylbl],xlbl,ylbl,lblpos,9)\n",
    "# this plot is showing the Northern Hemisphere - Cloudiness (%) vs. Latitude Linear Regression,and I dont believe there is any relationship here."
   ]
  },
  {
   "cell_type": "markdown",
   "metadata": {},
   "source": [
    "####  Southern Hemisphere - Cloudiness (%) vs. Latitude Linear Regression"
   ]
  },
  {
   "cell_type": "code",
   "execution_count": 35,
   "metadata": {},
   "outputs": [
    {
     "name": "stdout",
     "output_type": "stream",
     "text": [
      "The r-squared is: -0.01951976407691043\n"
     ]
    },
    {
     "data": {
      "image/png": "[encoded data removed]",
      "text/plain": [
       "<Figure size 432x288 with 1 Axes>"
      ]
     },
     "metadata": {
      "needs_background": "light"
     },
     "output_type": "display_data"
    }
   ],
   "source": [
    "xlbl = \"Lat\"\n",
    "ylbl = \"Clouds\"\n",
    "lblpos = (-55,50)\n",
    "plotLinearRegression(southern[xlbl],southern[ylbl],xlbl,ylbl,lblpos,10)\n",
    "# this plot is showing the Southern Hemisphere - Cloudiness (%) vs. Latitude Linear Regression,and I dont believe there is any relationship here."
   ]
  },
  {
   "cell_type": "markdown",
   "metadata": {},
   "source": [
    "####  Northern Hemisphere - Wind Speed (mph) vs. Latitude Linear Regression"
   ]
  },
  {
   "cell_type": "code",
   "execution_count": 36,
   "metadata": {},
   "outputs": [
    {
     "name": "stdout",
     "output_type": "stream",
     "text": [
      "The r-squared is: 0.03174949644725733\n"
     ]
    },
    {
     "data": {
      "image/png": "[encoded data removed]",
      "text/plain": [
       "<Figure size 432x288 with 1 Axes>"
      ]
     },
     "metadata": {
      "needs_background": "light"
     },
     "output_type": "display_data"
    }
   ],
   "source": [
    "xlbl = \"Lat\"\n",
    "ylbl = \"Wind Speed\"\n",
    "lblpos = (0,30)\n",
    "plotLinearRegression(nothern[xlbl],nothern[ylbl],xlbl,ylbl,lblpos,11)\n",
    "# this plot is showing the Northern Hemisphere - Wind Speed (mph) vs. Latitude Linear Regression,and The Latitude does not seem to have any effect on wind speed."
   ]
  },
  {
   "cell_type": "markdown",
   "metadata": {},
   "source": [
    "####  Southern Hemisphere - Wind Speed (mph) vs. Latitude Linear Regression"
   ]
  },
  {
   "cell_type": "code",
   "execution_count": 37,
   "metadata": {},
   "outputs": [
    {
     "name": "stdout",
     "output_type": "stream",
     "text": [
      "The r-squared is: 0.014931021694639628\n"
     ]
    },
    {
     "data": {
      "image/png": "[encoded data removed]",
      "text/plain": [
       "<Figure size 432x288 with 1 Axes>"
      ]
     },
     "metadata": {
      "needs_background": "light"
     },
     "output_type": "display_data"
    }
   ],
   "source": [
    "xlbl = \"Lat\"\n",
    "ylbl = \"Wind Speed\"\n",
    "lblpos = (-25,33)\n",
    "plotLinearRegression(southern[xlbl],southern[ylbl],xlbl,ylbl,lblpos,12)\n",
    "# this plot is showing the Northern Hemisphere - Wind Speed (mph) vs. Latitude Linear Regression,and The Latitude does not seem to have any effect on wind speed."
   ]
  }
 ],
 "metadata": {
  "anaconda-cloud": {},
  "kernel_info": {
   "name": "python3"
  },
  "kernelspec": {
   "display_name": "Python 3",
   "language": "python",
   "name": "python3"
  },
  "language_info": {
   "codemirror_mode": {
    "name": "ipython",
    "version": 3
   },
   "file_extension": ".py",
   "mimetype": "text/x-python",
   "name": "python",
   "nbconvert_exporter": "python",
   "pygments_lexer": "ipython3",
   "version": "3.8.5"
  },
  "latex_envs": {
   "LaTeX_envs_menu_present": true,
   "autoclose": false,
   "autocomplete": true,
   "bibliofile": "biblio.bib",
   "cite_by": "apalike",
   "current_citInitial": 1,
   "eqLabelWithNumbers": true,
   "eqNumInitial": 1,
   "hotkeys": {
    "equation": "Ctrl-E",
    "itemize": "Ctrl-I"
   },
   "labels_anchors": false,
   "latex_user_defs": false,
   "report_style_numbering": false,
   "user_envs_cfg": false
  },
  "nteract": {
   "version": "0.12.3"
  }
 },
 "nbformat": 4,
 "nbformat_minor": 2
}
